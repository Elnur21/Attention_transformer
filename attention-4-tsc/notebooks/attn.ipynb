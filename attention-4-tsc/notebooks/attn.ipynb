{
 "cells": [
  {
   "cell_type": "code",
   "execution_count": 1,
   "metadata": {},
   "outputs": [],
   "source": [
    "import torch\n",
    "from torch import nn\n",
    "\n",
    "import numpy as np\n",
    "import pandas as pd\n",
    "import matplotlib.pyplot as plt\n",
    "\n",
    "import random\n",
    "import math\n",
    "\n",
    "import os\n",
    "import sys\n",
    "sys.path.append('../utils')\n",
    "sys.path.append('..')\n",
    "\n",
    "from utils import read_all_datasets, prepare_data\n"
   ]
  },
  {
   "cell_type": "code",
   "execution_count": 2,
   "metadata": {},
   "outputs": [
    {
     "name": "stdout",
     "output_type": "stream",
     "text": [
      "batch_size is  16\n"
     ]
    }
   ],
   "source": [
    "dataset_name = 'LargeKitchenAppliances'\n",
    "# dataset_name = 'MoteStrain'\n",
    "\n",
    "datasets_dict = read_all_datasets([dataset_name])\n",
    "\n",
    "trainloader, valloader, input_shape, nb_classes = prepare_data(datasets_dict, dataset_name)\n"
   ]
  },
  {
   "cell_type": "markdown",
   "metadata": {},
   "source": [
    "### Classifier Model - Convolution"
   ]
  },
  {
   "cell_type": "code",
   "execution_count": 15,
   "metadata": {},
   "outputs": [],
   "source": [
    "from torch import nn\n",
    "\n",
    "class FCN(nn.Module):\n",
    "\n",
    "    def __init__(self, input_shape, nb_classes, filter_count):\n",
    "        super(FCN, self).__init__()\n",
    "        self.nb_classes = nb_classes\n",
    "        self.filter_count = filter_count\n",
    "\n",
    "        self.max_pool = nn.AvgPool1d(kernel_size=2, stride=2)\n",
    "        self.conv1 = nn.Conv1d(in_channels=1, out_channels=self.filter_count, kernel_size=8, stride=1, padding='same', bias=False)\n",
    "        self.bn1 = nn.BatchNorm1d(self.filter_count,)\n",
    "    \n",
    "        # self.conv2 = nn.Conv1d(in_channels=self.filter_count, out_channels=self.filter_count*2, kernel_size=5, stride=1, padding='same', bias=False)\n",
    "        # self.bn2 = nn.BatchNorm1d(self.filter_count*2,)\n",
    "            \n",
    "        # self.conv3 = nn.Conv1d(in_channels=self.filter_count*2, out_channels=self.filter_count, kernel_size=3, stride=1, padding='same', bias=False)\n",
    "        # self.bn3 = nn.BatchNorm1d(self.filter_count,)\n",
    "\n",
    "        self.relu = nn.ReLU()\n",
    "\n",
    "        self.avgpool1 = nn.AdaptiveAvgPool1d(1)\n",
    "        self.fc1 = nn.Linear(self.filter_count, self.nb_classes)\n",
    "\n",
    "    def forward(self, x):\n",
    "        # First convolutional block\n",
    "        x = self.max_pool(x)\n",
    "        x = self.conv1(x)\n",
    "        x = self.bn1(x)\n",
    "        x = self.relu(x)\n",
    "\n",
    "        # # Second convolutional block\n",
    "        # x = self.conv2(x)\n",
    "        # x = self.bn2(x)\n",
    "        # x = self.relu(x)\n",
    "        \n",
    "        # # # Third convolutional block\n",
    "        # x = self.conv3(x)\n",
    "        # x = self.bn3(x)\n",
    "        # x = self.relu(x)\n",
    "\n",
    "        x = self.avgpool1(x)\n",
    "        x = x.reshape(x.shape[0], -1)\n",
    "        x = self.fc1(x)\n",
    "\n",
    "        return x"
   ]
  },
  {
   "cell_type": "markdown",
   "metadata": {},
   "source": [
    "### Train the model"
   ]
  },
  {
   "cell_type": "code",
   "execution_count": 16,
   "metadata": {},
   "outputs": [
    {
     "data": {
      "text/plain": [
       "device(type='cuda')"
      ]
     },
     "execution_count": 16,
     "metadata": {},
     "output_type": "execute_result"
    }
   ],
   "source": [
    "device = torch.device(\"cuda\" if torch.cuda.is_available() else \"cpu\")\n",
    "device"
   ]
  },
  {
   "cell_type": "code",
   "execution_count": 17,
   "metadata": {},
   "outputs": [],
   "source": [
    "def test(model):\n",
    "    with torch.no_grad():\n",
    "        model.eval()\n",
    "        test_loss = 0\n",
    "        correct = 0\n",
    "        total = 0\n",
    "\n",
    "        for b_idx, (x, y) in enumerate(valloader):\n",
    "            (x, y) = x.to(device), y.to(device)\n",
    "            pred = model(x.float())\n",
    "\n",
    "            loss = lossFn(pred, y)\n",
    "            test_loss += loss.item()\n",
    "\n",
    "            total += y.size(0)\n",
    "            correct += (pred.argmax(1) == y).type(torch.float).sum().item()\n",
    "\n",
    "        print('Test Loss: %.3f | Test Acc: %.3f%% (%d/%d)' % (test_loss / (b_idx + 1), 100. * correct / total, correct, total))\n",
    "        return test_loss / (b_idx + 1), 100. * correct / total"
   ]
  },
  {
   "cell_type": "code",
   "execution_count": 18,
   "metadata": {},
   "outputs": [],
   "source": [
    "# pool of size=3, stride=2\n",
    "m = nn.MaxPool1d(kernel_size=2, stride=2,)\n",
    "input = torch.randn(20, 16, 50)\n",
    "output = m(input)"
   ]
  },
  {
   "cell_type": "code",
   "execution_count": 19,
   "metadata": {},
   "outputs": [
    {
     "data": {
      "text/plain": [
       "torch.Size([20, 16, 25])"
      ]
     },
     "execution_count": 19,
     "metadata": {},
     "output_type": "execute_result"
    }
   ],
   "source": [
    "output.shape"
   ]
  },
  {
   "cell_type": "code",
   "execution_count": null,
   "metadata": {},
   "outputs": [],
   "source": [
    "import torch.optim as optim\n",
    "import torch.backends.cudnn as cudnn\n",
    "\n",
    "seed=42\n",
    "np.random.seed(seed)\n",
    "torch.manual_seed(seed)\n",
    "torch.cuda.manual_seed(seed)\n",
    "torch.cuda.manual_seed_all(seed)\n",
    "cudnn.deterministic = True\n",
    "cudnn.benchmark = False\n",
    "\n",
    "model = FCN((360, 1), 3, 128)\n",
    "lossFn = nn.CrossEntropyLoss()\n",
    "optimizer = optim.Adam(model.parameters(), lr=0.001,)\n",
    "EPOCHS = 2000\n",
    "\n",
    "model.to(device)\n",
    "\n",
    "train_losses, test_losses, test_accs = [], [], []\n",
    "\n",
    "for e in range(0, EPOCHS):\n",
    "    print('Epoch: ', e)\n",
    "    model.train()\n",
    "\n",
    "    # initlaize total training loss\n",
    "    totalTainLoss = 0\n",
    "\n",
    "    # initialize number of correct predictions in the training\n",
    "    trainCorrect = 0\n",
    "\n",
    "    for (x, y) in trainloader:\n",
    "        # send the input to the device\n",
    "        x, y = x.to(device), y.to(device)\n",
    "        \n",
    "        # perform a forward pass and calculate the training loss\n",
    "        pred = model(x.float())\n",
    "        loss = lossFn(pred, y)\n",
    "\n",
    "        optimizer.zero_grad()\n",
    "        loss.backward()\n",
    "        optimizer.step()\n",
    "\n",
    "        totalTainLoss += loss\n",
    "        trainCorrect += (pred.argmax(1) == y).type(torch.float).sum().item()\n",
    "\n",
    "\n",
    "    print('Train loss: ', totalTainLoss.item())\n",
    "    train_losses.append(totalTainLoss.item())\n",
    "    test_loss, test_acc = test(model)\n",
    "    test_losses.append(test_loss)\n",
    "    test_accs.append(test_acc)\n",
    "    print('\\n\\n')\n"
   ]
  },
  {
   "cell_type": "code",
   "execution_count": null,
   "metadata": {},
   "outputs": [],
   "source": []
  },
  {
   "cell_type": "code",
   "execution_count": null,
   "metadata": {},
   "outputs": [],
   "source": [
    "import torch.optim as optim\n",
    "\n",
    "model = FCN((720, 1), 3, 128)\n",
    "lossFn = nn.CrossEntropyLoss()\n",
    "# optimizer = optim.Adam(model.parameters(), )\n",
    "base_optimizer = torch.optim.Adam\n",
    "optimizer = SAM(model.parameters(), base_optimizer, )\n",
    "\n",
    "# optimizer = optim.Adam(model.parameters(), lr=0.001,)\n",
    "EPOCHS = 2000\n",
    "\n",
    "model.to(device)\n",
    "\n",
    "train_losses, test_losses, test_accs = [], [], []\n",
    "\n",
    "for e in range(0, EPOCHS):\n",
    "    print('Epoch: ', e)\n",
    "    # model.train()\n",
    "\n",
    "    # # initlaize total training loss\n",
    "    # totalTainLoss = 0\n",
    "\n",
    "    # # initialize number of correct predictions in the training\n",
    "    # trainCorrect = 0\n",
    "\n",
    "    # for (x, y) in trainloader:\n",
    "    #     # send the input to the device\n",
    "    #     x, y = x.to(device), y.to(device)\n",
    "        \n",
    "    #     # perform a forward pass and calculate the training loss\n",
    "    #     pred = model(x.float())\n",
    "    #     loss = lossFn(pred, y)\n",
    "\n",
    "    #     optimizer.zero_grad()\n",
    "    #     loss.backward()\n",
    "    #     optimizer.step()\n",
    "\n",
    "    #     totalTainLoss += loss\n",
    "    #     trainCorrect += (pred.argmax(1) == y).type(torch.float).sum().item()\n",
    "\n",
    "    \n",
    "\n",
    "    model.train()\n",
    "\n",
    "    # initlaize total training loss\n",
    "    totalTainLoss = 0\n",
    "\n",
    "    # initialize number of correct predictions in the training\n",
    "    trainCorrect = 0\n",
    "\n",
    "    for (x, y) in trainloader:\n",
    "        optimizer.zero_grad()\n",
    "        # send the input to the device\n",
    "        x, y = x.to(device), y.to(device)\n",
    "        # perform a forward pass and calculate the training loss\n",
    "        pred = model(x.float())\n",
    "        loss = lossFn(pred, y)\n",
    "        loss.backward()\n",
    "        optimizer.first_step(zero_grad=True)\n",
    "\n",
    "        lossFn(model(x.float()), y).backward()  \n",
    "        optimizer.second_step(zero_grad=True)\n",
    "\n",
    "        totalTainLoss += loss\n",
    "        trainCorrect += (pred.argmax(1) == y).type(torch.float).sum().item()\n",
    "\n",
    "    # break\n",
    "    print('Train loss: ', totalTainLoss.item())\n",
    "    train_losses.append(totalTainLoss.item())\n",
    "    test_loss, test_acc = test(model)\n",
    "    test_losses.append(test_loss)\n",
    "    test_accs.append(test_acc)\n",
    "    print('\\n')"
   ]
  },
  {
   "cell_type": "code",
   "execution_count": 138,
   "metadata": {},
   "outputs": [],
   "source": [
    "import torch\n",
    "import torch.nn as nn\n",
    "import math\n",
    "\n",
    "class Padding(nn.Module):\n",
    "\n",
    "    def __init__(self, patch_size):\n",
    "        super(Padding, self).__init__()\n",
    "        self.patch_size = patch_size\n",
    "\n",
    "    def forward(self, x):\n",
    "        B, D, L= x.size()\n",
    "        # print('x shape: ', x.shape)\n",
    "        if L % self.patch_size != 0:\n",
    "            padd_size = self.patch_size - L % self.patch_size\n",
    "            # print('padd_size: ', padd_size)\n",
    "            num_patches = math.ceil(L / self.patch_size)\n",
    "            # print('num_patches: ', num_patches)\n",
    "            last_elements = x[:, :, -1:]\n",
    "            # print('last_elements: ', last_elements.shape)\n",
    "            num_missing_values = self.patch_size - (L % self.patch_size)\n",
    "            # print('num_missing_values: ', num_missing_values)\n",
    "            if num_missing_values > 0:\n",
    "                padding = last_elements.repeat(1, 1, num_missing_values)\n",
    "                # print('padding shape: ', padding.shape)\n",
    "                x = torch.cat([x, padding], dim=2)\n",
    "                # print('x shape: ', x.shape)\n",
    "            # print('final shape: ', x.shape)\n",
    "\n",
    "            x = x.view(B, D, -1, self.patch_size)\n",
    "        else:\n",
    "            # print('B: ', B)\n",
    "            # print('D: ', D)\n",
    "\n",
    "            x = x.view(B, D, -1, self.patch_size)\n",
    "\n",
    "        # print('before permutation: ', x.shape)\n",
    "        return  x.permute(0, 1, 3, 2)"
   ]
  },
  {
   "cell_type": "code",
   "execution_count": 87,
   "metadata": {},
   "outputs": [
    {
     "data": {
      "text/plain": [
       "array([[[[  1,   6,  11,  16,  21,  26,  31,  36,  41,  46,  51,  56,\n",
       "           61,  66,  71,  76,  81,  86,  91,  96],\n",
       "         [  2,   7,  12,  17,  22,  27,  32,  37,  42,  47,  52,  57,\n",
       "           62,  67,  72,  77,  82,  87,  92,  97],\n",
       "         [  3,   8,  13,  18,  23,  28,  33,  38,  43,  48,  53,  58,\n",
       "           63,  68,  73,  78,  83,  88,  93,  98],\n",
       "         [  4,   9,  14,  19,  24,  29,  34,  39,  44,  49,  54,  59,\n",
       "           64,  69,  74,  79,  84,  89,  94,  99],\n",
       "         [  5,  10,  15,  20,  25,  30,  35,  40,  45,  50,  55,  60,\n",
       "           65,  70,  75,  80,  85,  90,  95, 100]]]])"
      ]
     },
     "execution_count": 87,
     "metadata": {},
     "output_type": "execute_result"
    }
   ],
   "source": [
    "arr = np.arange(1, 101).reshape(1, 1, 20, 5)\n",
    "arr.shape\n",
    "arr = np.transpose(arr, axes=(0, 1, 3, 2))\n",
    "arr\n"
   ]
  },
  {
   "cell_type": "code",
   "execution_count": 109,
   "metadata": {},
   "outputs": [
    {
     "name": "stdout",
     "output_type": "stream",
     "text": [
      "input shape:  torch.Size([16, 1, 720])\n",
      "target shape:  torch.Size([16])\n",
      "x shape:  torch.Size([16, 1, 720])\n",
      "B:  16\n",
      "D:  1\n",
      "before permutation:  torch.Size([16, 1, 90, 8])\n",
      "Input shape after patching:  torch.Size([16, 1, 8, 90])\n",
      "<class 'torch.Tensor'>\n",
      "Input shape after embedding layer:  torch.Size([16, 16, 1, 90])\n"
     ]
    }
   ],
   "source": [
    "emb_size = 16\n",
    "embed_layer = nn.Sequential(nn.Conv1d(1, emb_size, kernel_size=8, padding='same'),\n",
    "                                         nn.BatchNorm1d(emb_size),\n",
    "                                         nn.GELU())\n",
    "embed_layer2 = nn.Sequential(nn.Conv2d(1, emb_size, kernel_size=[8, 1], padding='valid'),\n",
    "                                    nn.BatchNorm2d(emb_size),\n",
    "                                    nn.GELU())\n",
    "\n",
    "for (x, y) in trainloader:\n",
    "    print('input shape: ', x.shape)                                        \n",
    "    print('target shape: ', y.shape)                                        \n",
    "    patching_layer = Padding(patch_size=8)\n",
    "    x = patching_layer(x)\n",
    "    print('Input shape after patching: ', x.shape)\n",
    "    print(type(x))\n",
    "    x = embed_layer2(x.float())\n",
    "    print('Input shape after embedding layer: ', x.shape)\n",
    "    break"
   ]
  },
  {
   "cell_type": "code",
   "execution_count": 104,
   "metadata": {},
   "outputs": [
    {
     "data": {
      "text/plain": [
       "tensor([ 0.5772, -1.5762, -1.5762,  0.5772,  0.5772,  0.5772,  0.5772, -1.5762,\n",
       "        -1.5762,  0.5772,  0.5772,  0.5772,  0.5772, -1.5762, -1.5762,  0.5772,\n",
       "         0.5772,  0.5772,  0.5772,  0.5772, -1.5762, -1.5762,  0.5772,  0.5772,\n",
       "         0.5772,  0.5772, -1.5762,  0.5772,  0.5772,  0.5772, -1.5762,  0.5772,\n",
       "         0.5772,  0.5772,  0.5772, -1.5762, -1.5762,  0.5772,  0.5772,  0.5772,\n",
       "        -1.5762,  0.5772,  0.5772,  0.5772, -1.5762,  0.5772,  0.5772,  0.5772,\n",
       "        -1.5762,  0.5772,  0.5772,  0.5772,  0.5772, -1.5762,  0.5772,  0.5772,\n",
       "         0.5772, -1.5762,  0.5772,  0.5772,  0.5772,  0.5772, -1.5762,  0.5772,\n",
       "         0.5772, -1.5762,  0.5772,  0.5772,  0.5772, -1.5762,  0.5772,  0.5772,\n",
       "         0.5772, -1.5762,  0.5772,  0.5772,  0.5772, -1.5762,  0.5772,  0.5772,\n",
       "         0.5772, -1.5762,  0.5772,  0.5772,  0.5772, -1.5762,  0.5772,  0.5772,\n",
       "         0.5772, -1.5762], dtype=torch.float64)"
      ]
     },
     "execution_count": 104,
     "metadata": {},
     "output_type": "execute_result"
    }
   ],
   "source": [
    "x[14][0][2]"
   ]
  },
  {
   "cell_type": "markdown",
   "metadata": {},
   "source": [
    "### Classifier Model - Attention\n"
   ]
  },
  {
   "cell_type": "code",
   "execution_count": 3,
   "metadata": {},
   "outputs": [],
   "source": [
    "def test(model):\n",
    "    with torch.no_grad():\n",
    "        model.eval()\n",
    "        test_loss = 0\n",
    "        correct = 0\n",
    "        total = 0\n",
    "\n",
    "        for b_idx, (x, y) in enumerate(valloader):\n",
    "            (x, y) = x.to(device), y.to(device)\n",
    "            pred = model(x.float())\n",
    "\n",
    "            loss = lossFn(pred, y)\n",
    "            test_loss += loss.item()\n",
    "\n",
    "            total += y.size(0)\n",
    "            correct += (pred.argmax(1) == y).type(torch.float).sum().item()\n",
    "\n",
    "        print('Test Loss: %.3f | Test Acc: %.3f%% (%d/%d)' % (test_loss / (b_idx + 1), 100. * correct / total, correct, total))\n",
    "        return test_loss / (b_idx + 1), 100. * correct / total"
   ]
  },
  {
   "cell_type": "markdown",
   "metadata": {},
   "source": [
    "##### Positional Encoding"
   ]
  },
  {
   "cell_type": "code",
   "execution_count": 4,
   "metadata": {},
   "outputs": [],
   "source": [
    "class AbsolutePositionalEncoding(nn.Module):\n",
    "    r\"\"\"Inject some information about the relative or absolute position of the tokens in the sequence. \n",
    "        The positional encodings have the same dimension as the embeddings, so that the two can be summed. \n",
    "        Here, we use sine and cosine functions of different frequencies.\n",
    "    .. math::\n",
    "        \\text{PosEncoder}(pos, 2i) = sin(pos/10000^(2i/d_model))\n",
    "        \\text{PosEncoder}(pos, 2i+1) = cos(pos/10000^(2i/d_model))\n",
    "        \\text{where pos is the word position and i is the embed idx)\n",
    "    Args:\n",
    "        d_model: the embed dim (required).\n",
    "        dropout: the dropout value (default=0.1).\n",
    "        max_len: the max. length of the incoming sequence (default=1024).\n",
    "    \"\"\"\n",
    "\n",
    "    def __init__(self, d_model, dropout=0.1, max_len=1024, scale_factor=1.0):\n",
    "        super(AbsolutePositionalEncoding, self).__init__()\n",
    "        self.dropout = nn.Dropout(p=dropout)\n",
    "        pe = torch.zeros(max_len, d_model)  # positional encoding\n",
    "        position = torch.arange(0, max_len, dtype=torch.float).unsqueeze(1)\n",
    "        div_term = torch.exp(torch.arange(0, d_model, 2).float() * (-math.log(10000.0) / d_model))\n",
    "\n",
    "        pe[:, 0::2] = torch.sin(position * div_term)\n",
    "        pe[:, 1::2] = torch.cos(position * div_term)\n",
    "        pe = scale_factor * pe.unsqueeze(0)\n",
    "        self.register_buffer('pe', pe)  # this stores the variable in the state_dict (used for non-trainable variables)\n",
    "\n",
    "    def forward(self, x):\n",
    "        r\"\"\"Inputs of forward function\n",
    "        Args:\n",
    "            x: the sequence fed to the positional encoder model (required).\n",
    "        Shape:\n",
    "            x: [sequence length, batch size, embed dim]\n",
    "            output: [sequence length, batch size, embed dim]\n",
    "        \"\"\"\n",
    "        # print('Input shape ', x.shape)\n",
    "        # print('self.pe shape ', self.pe.shape)\n",
    "\n",
    "        x = x + self.pe\n",
    "        return self.dropout(x)\n",
    "\n",
    "class tAPE(nn.Module):\n",
    "    r\"\"\"Inject some information about the relative or absolute position of the tokens\n",
    "        in the sequence. The positional encodings have the same dimension as\n",
    "        the embeddings, so that the two can be summed. Here, we use sine and cosine\n",
    "        functions of different frequencies.\n",
    "    .. math::\n",
    "        \\text{PosEncoder}(pos, 2i) = sin(pos/10000^(2i/d_model))\n",
    "        \\text{PosEncoder}(pos, 2i+1) = cos(pos/10000^(2i/d_model))\n",
    "        \\text{where pos is the word position and i is the embed idx)\n",
    "    Args:\n",
    "        d_model: the embed dim (required).\n",
    "        dropout: the dropout value (default=0.1).\n",
    "        max_len: the max. length of the incoming sequence (default=1024).\n",
    "    \"\"\"\n",
    "\n",
    "    def __init__(self, d_model, dropout=0.1, max_len=1024, scale_factor=1.0):\n",
    "        super(tAPE, self).__init__()\n",
    "        self.dropout = nn.Dropout(p=dropout)\n",
    "        pe = torch.zeros(max_len, d_model)  # positional encoding\n",
    "        position = torch.arange(0, max_len, dtype=torch.float).unsqueeze(1)\n",
    "        div_term = torch.exp(torch.arange(0, d_model, 2).float() * (-math.log(10000.0) / d_model))\n",
    "\n",
    "        pe[:, 0::2] = torch.sin((position * div_term)*(d_model/max_len))\n",
    "        pe[:, 1::2] = torch.cos((position * div_term)*(d_model/max_len))\n",
    "        pe = scale_factor * pe.unsqueeze(0)\n",
    "        self.register_buffer('pe', pe)  # this stores the variable in the state_dict (used for non-trainable variables)\n",
    "\n",
    "    def forward(self, x):\n",
    "        r\"\"\"Inputs of forward function\n",
    "        Args:\n",
    "            x: the sequence fed to the positional encoder model (required).\n",
    "        Shape:\n",
    "            x: [sequence length, batch size, embed dim]\n",
    "            output: [sequence length, batch size, embed dim]\n",
    "        \"\"\"\n",
    "        x = x + self.pe\n",
    "        return self.dropout(x)\n"
   ]
  },
  {
   "cell_type": "code",
   "execution_count": 51,
   "metadata": {},
   "outputs": [],
   "source": [
    "def positional_weighting(distance):\n",
    "    \"\"\"\n",
    "    Calculates linear weights based on relative distance for a 10-token sequence.\n",
    "\n",
    "    Args:\n",
    "        distance: Integer representing the relative distance between query and key tokens.\n",
    "\n",
    "    Returns:\n",
    "        Float representing the weight for the current token position.\n",
    "    \"\"\"\n",
    "    return 1 - (distance / 9)  # Adjust the denominator to 9 for 10-token sequence\n"
   ]
  },
  {
   "cell_type": "code",
   "execution_count": 105,
   "metadata": {},
   "outputs": [],
   "source": [
    "class Attention(nn.Module):\n",
    "    def __init__(self, emb_size, num_heads, dropout):\n",
    "        super().__init__()\n",
    "        self.num_heads = num_heads\n",
    "        self.scale = emb_size ** -0.5\n",
    "\n",
    "        self.query = nn.Linear(emb_size, emb_size, bias=False)\n",
    "        self.key = nn.Linear(emb_size, emb_size, bias=False)\n",
    "        self.value = nn.Linear(emb_size, emb_size, bias=False)\n",
    "        n = 179\n",
    "        tmp = torch.arange(n) - torch.arange(n).unsqueeze(1)\n",
    "        self.spec_attn_wghts = torch.abs(tmp) / n\n",
    "\n",
    "        self.dropout = nn.Dropout(dropout)\n",
    "        self.to_out = nn.LayerNorm(emb_size)\n",
    "\n",
    "    \n",
    "    def forward(self, x):\n",
    "        batch_size, seq_len, _ = x.shape\n",
    "        k = self.key(x).reshape(batch_size, seq_len, self.num_heads, -1).permute(0, 2, 3, 1)\n",
    "        v = self.value(x).reshape(batch_size, seq_len, self.num_heads, -1).transpose(1, 2)\n",
    "        q = self.query(x).reshape(batch_size, seq_len, self.num_heads, -1).transpose(1, 2)\n",
    "\n",
    "        attn = torch.matmul(q, k) * self.scale\n",
    "        # print('attn: ', attn[0][0][0])\n",
    "        # attn = nn.functional.softmax(attn, dim=-1)\n",
    "        # print('attn: ', attn.shape)\n",
    "        attn = torch.mul(attn, self.spec_attn_wghts.to(device))\n",
    "        # print('special attn: ', tmp_.shape)\n",
    "        attn = nn.functional.softmax(attn, dim=-1)\n",
    "        \n",
    "        out = torch.matmul(attn, v)\n",
    "        out = out.transpose(1, 2)\n",
    "        out = out.reshape(batch_size, seq_len, -1)\n",
    "        out = self.to_out(out)\n",
    "\n",
    "        return out\n",
    "\n",
    "class AttentionModel(nn.Module):\n",
    "    def __init__(self, emb_size, num_heads, dropout, num_classes, dim_ff):\n",
    "        super().__init__()\n",
    "        self.embed_layer = nn.Sequential(nn.Conv1d(1, emb_size, kernel_size=8, stride=4, padding='valid'),\n",
    "                                         nn.BatchNorm1d(emb_size),\n",
    "                                         nn.ReLU())\n",
    "\n",
    "        # self.embed_layer2 = nn.Sequential(nn.Conv2d(1, emb_size, kernel_size=[8, 1], padding='valid'),\n",
    "        #                             nn.BatchNorm2d(emb_size),\n",
    "        #                             nn.GELU())\n",
    "                                         \n",
    "        self.Fix_pos_encode = tAPE(emb_size, max_len=179)\n",
    "        # self.Fix_pos_encode2 = tAPE(emb_size, max_len=179)\n",
    "        # self.Fix_pos_encode3 = tAPE(emb_size, max_len=179)\n",
    "\n",
    "\n",
    "        self.attn_layer = Attention(emb_size, num_heads, dropout)\n",
    "        self.attn_layer2 = Attention(emb_size, num_heads, dropout)\n",
    "        # self.attn_layer3 = Attention(emb_size, num_heads, dropout)\n",
    "\n",
    "\n",
    "        self.LayerNorm1 = nn.LayerNorm(emb_size, eps=1e-5)\n",
    "        self.LayerNorm2 = nn.LayerNorm(emb_size, eps=1e-5)\n",
    "        # self.LayerNorm3 = nn.LayerNorm(emb_size, eps=1e-5)\n",
    "\n",
    "\n",
    "        # self.FeedForward = nn.Sequential(\n",
    "        #     nn.Linear(emb_size, dim_ff),\n",
    "        #     nn.ReLU(),\n",
    "        #     nn.Dropout(dropout),\n",
    "        #     nn.Linear(dim_ff, emb_size),\n",
    "        #     nn.Dropout(dropout)\n",
    "        # )\n",
    "\n",
    "        self.gap = nn.AdaptiveAvgPool1d(1)\n",
    "        self.flatten = nn.Flatten()\n",
    "        self.to_out = nn.Linear(emb_size, num_classes)\n",
    "\n",
    "        \n",
    "    def forward(self, x):\n",
    "        # print('Input shape: ', x.shape)\n",
    "        # patching_layer = Padding(patch_size=8)\n",
    "        # x = patching_layer(x)\n",
    "        x = self.embed_layer(x)\n",
    "        x = x.squeeze(1)\n",
    "\n",
    "        # print('Output shape of embedding layer: ', x.shape)\n",
    "        # x_src = self.embed_layer(x)\n",
    "        # print('embedding shape: ', x_src.shape)\n",
    "        # x_src = self.embed_layer2(x).squeeze(2)\n",
    "        # print('Output shape of embedding layer: ', x_src.shape)\n",
    "\n",
    "        x_src = x.permute(0, 2, 1)\n",
    "        # print('Input to the attention layer: ', x_src.shape)\n",
    "        x_src_pos = self.Fix_pos_encode(x_src)\n",
    "        att = self.attn_layer(x_src_pos)\n",
    "        # att = self.LayerNorm1(att + x_src)\n",
    "        \n",
    "        x_src_pos = self.Fix_pos_encode(att)\n",
    "        att = self.attn_layer2(x_src_pos)\n",
    "\n",
    "        att = self.LayerNorm2(att)\n",
    "        # x_src_pos = self.Fix_pos_encode3(att)\n",
    "        # att = self.attn_layer3(x_src_pos)\n",
    "\n",
    "\n",
    "        # out = att + self.FeedForward(att)\n",
    "        # out = self.LayerNorm2(out)\n",
    "        out = att.permute(0, 2, 1)\n",
    "        # out = x_src.permute(0, 2, 1)\n",
    "        # print('After permutation: ', x_src.shape)\n",
    "        out = self.gap(out)\n",
    "        # print('After gap: ', out.shape)\n",
    "        out = self.flatten(out)\n",
    "        # print('After flatten: ', out.shape)\n",
    "        out = self.to_out(out)\n",
    "        # print('classification layer ', out.shape)\n",
    "        return out"
   ]
  },
  {
   "cell_type": "code",
   "execution_count": 106,
   "metadata": {},
   "outputs": [
    {
     "data": {
      "text/plain": [
       "device(type='cuda')"
      ]
     },
     "execution_count": 106,
     "metadata": {},
     "output_type": "execute_result"
    }
   ],
   "source": [
    "device = torch.device(\"cuda\" if torch.cuda.is_available() else \"cpu\")\n",
    "device"
   ]
  },
  {
   "cell_type": "code",
   "execution_count": 107,
   "metadata": {},
   "outputs": [],
   "source": [
    "class SAM(torch.optim.Optimizer):\n",
    "    def __init__(self, params, base_optimizer, rho=0.25, adaptive=False, **kwargs):\n",
    "        assert rho >= 0.0, f\"Invalid rho, should be non-negative: {rho}\"\n",
    "\n",
    "        defaults = dict(rho=rho, adaptive=adaptive, **kwargs)\n",
    "        super(SAM, self).__init__(params, defaults)\n",
    "\n",
    "        self.base_optimizer = base_optimizer(self.param_groups, **kwargs)\n",
    "        self.param_groups = self.base_optimizer.param_groups\n",
    "        self.defaults.update(self.base_optimizer.defaults)\n",
    "\n",
    "    @torch.no_grad()\n",
    "    def first_step(self, zero_grad=False):\n",
    "        grad_norm = self._grad_norm()\n",
    "        for group in self.param_groups:\n",
    "            scale = group[\"rho\"] / (grad_norm + 1e-12)\n",
    "\n",
    "            for p in group[\"params\"]:\n",
    "                if p.grad is None: continue\n",
    "                self.state[p][\"old_p\"] = p.data.clone()\n",
    "                e_w = (torch.pow(p, 2) if group[\"adaptive\"] else 1.0) * p.grad * scale.to(p)\n",
    "                p.add_(e_w)  # climb to the local maximum \"w + e(w)\"\n",
    "\n",
    "        if zero_grad: self.zero_grad()\n",
    "\n",
    "    @torch.no_grad()\n",
    "    def second_step(self, zero_grad=False):\n",
    "        for group in self.param_groups:\n",
    "            for p in group[\"params\"]:\n",
    "                if p.grad is None: continue\n",
    "                p.data = self.state[p][\"old_p\"]  # get back to \"w\" from \"w + e(w)\"\n",
    "\n",
    "        self.base_optimizer.step()  # do the actual \"sharpness-aware\" update\n",
    "\n",
    "        if zero_grad: self.zero_grad()\n",
    "\n",
    "    @torch.no_grad()\n",
    "    def step(self, closure=None):\n",
    "        assert closure is not None, \"Sharpness Aware Minimization requires closure, but it was not provided\"\n",
    "        closure = torch.enable_grad()(closure)  # the closure should do a full forward-backward pass\n",
    "\n",
    "        self.first_step(zero_grad=True)\n",
    "        closure()\n",
    "        self.second_step()\n",
    "\n",
    "    def _grad_norm(self):\n",
    "        shared_device = self.param_groups[0][\"params\"][0].device  # put everything on the same device, in case of model parallelism\n",
    "        norm = torch.norm(\n",
    "                    torch.stack([\n",
    "                        ((torch.abs(p) if group[\"adaptive\"] else 1.0) * p.grad).norm(p=2).to(shared_device)\n",
    "                        for group in self.param_groups for p in group[\"params\"]\n",
    "                        if p.grad is not None\n",
    "                    ]),\n",
    "                    p=2\n",
    "               )\n",
    "        return norm\n",
    "\n",
    "    def load_state_dict(self, state_dict):\n",
    "        super().load_state_dict(state_dict)\n",
    "        self.base_optimizer.param_groups = self.param_groups"
   ]
  },
  {
   "cell_type": "code",
   "execution_count": 108,
   "metadata": {},
   "outputs": [
    {
     "data": {
      "text/plain": [
       "device(type='cuda')"
      ]
     },
     "execution_count": 108,
     "metadata": {},
     "output_type": "execute_result"
    }
   ],
   "source": [
    "device"
   ]
  },
  {
   "cell_type": "code",
   "execution_count": null,
   "metadata": {},
   "outputs": [],
   "source": [
    "import torch.optim as optim\n",
    "\n",
    "model = AttentionModel(16, 8, 0.2, 3, 64)\n",
    "lossFn = nn.CrossEntropyLoss()\n",
    "# optimizer = optim.Adam(model.parameters(), )\n",
    "base_optimizer = torch.optim.Adam\n",
    "optimizer = SAM(model.parameters(), base_optimizer,)\n",
    "\n",
    "# optimizer = optim.Adam(model.parameters(), lr=0.001,)\n",
    "EPOCHS = 2000\n",
    "\n",
    "model.to(device)\n",
    "\n",
    "train_losses, test_losses, test_accs = [], [], []\n",
    "\n",
    "for e in range(0, EPOCHS):\n",
    "    print('Epoch: ', e)\n",
    "    # model.train()\n",
    "\n",
    "    # # initlaize total training loss\n",
    "    # totalTainLoss = 0\n",
    "\n",
    "    # # initialize number of correct predictions in the training\n",
    "    # trainCorrect = 0\n",
    "\n",
    "    # for (x, y) in trainloader:\n",
    "    #     # send the input to the device\n",
    "    #     x, y = x.to(device), y.to(device)\n",
    "        \n",
    "    #     # perform a forward pass and calculate the training loss\n",
    "    #     pred = model(x.float())\n",
    "    #     loss = lossFn(pred, y)\n",
    "\n",
    "    #     optimizer.zero_grad()\n",
    "    #     loss.backward()\n",
    "    #     optimizer.step()\n",
    "\n",
    "    #     totalTainLoss += loss\n",
    "    #     trainCorrect += (pred.argmax(1) == y).type(torch.float).sum().item()\n",
    "\n",
    "    \n",
    "\n",
    "    model.train()\n",
    "\n",
    "    # initlaize total training loss\n",
    "    totalTainLoss = 0\n",
    "\n",
    "    # initialize number of correct predictions in the training\n",
    "    trainCorrect = 0\n",
    "\n",
    "    for (x, y) in trainloader:\n",
    "        optimizer.zero_grad()\n",
    "        # send the input to the device\n",
    "        x, y = x.to(device), y.to(device)\n",
    "        # perform a forward pass and calculate the training loss\n",
    "        pred = model(x.float())\n",
    "        loss = lossFn(pred, y)\n",
    "        loss.backward()\n",
    "        optimizer.first_step(zero_grad=True)\n",
    "\n",
    "        lossFn(model(x.float()), y).backward()  \n",
    "        optimizer.second_step(zero_grad=True)\n",
    "\n",
    "        totalTainLoss += loss\n",
    "        trainCorrect += (pred.argmax(1) == y).type(torch.float).sum().item()\n",
    "\n",
    "    # break\n",
    "    print('Train loss: ', totalTainLoss.item())\n",
    "    train_losses.append(totalTainLoss.item())\n",
    "    test_loss, test_acc = test(model)\n",
    "    test_losses.append(test_loss)\n",
    "    test_accs.append(test_acc)\n",
    "    print('\\n')"
   ]
  },
  {
   "cell_type": "code",
   "execution_count": 112,
   "metadata": {},
   "outputs": [
    {
     "data": {
      "text/plain": [
       "[<matplotlib.lines.Line2D at 0x7f70c44e0d60>]"
      ]
     },
     "execution_count": 112,
     "metadata": {},
     "output_type": "execute_result"
    },
    {
     "data": {
      "image/png": "[encoded data removed]",
      "text/plain": [
       "<Figure size 640x480 with 1 Axes>"
      ]
     },
     "metadata": {},
     "output_type": "display_data"
    }
   ],
   "source": [
    "plt.plot(test_accs)\n"
   ]
  },
  {
   "cell_type": "code",
   "execution_count": 110,
   "metadata": {},
   "outputs": [
    {
     "data": {
      "text/plain": [
       "[<matplotlib.lines.Line2D at 0x7f70c4157880>]"
      ]
     },
     "execution_count": 110,
     "metadata": {},
     "output_type": "execute_result"
    },
    {
     "data": {
      "image/png": "[encoded data removed]",
      "text/plain": [
       "<Figure size 640x480 with 1 Axes>"
      ]
     },
     "metadata": {},
     "output_type": "display_data"
    }
   ],
   "source": [
    "plt.plot(test_accs)\n"
   ]
  },
  {
   "cell_type": "code",
   "execution_count": 97,
   "metadata": {},
   "outputs": [
    {
     "data": {
      "text/plain": [
       "[<matplotlib.lines.Line2D at 0x7f70c4740970>]"
      ]
     },
     "execution_count": 97,
     "metadata": {},
     "output_type": "execute_result"
    },
    {
     "data": {
      "image/png": "[encoded data removed]",
      "text/plain": [
       "<Figure size 640x480 with 1 Axes>"
      ]
     },
     "metadata": {},
     "output_type": "display_data"
    }
   ],
   "source": [
    "plt.plot(test_accs)\n"
   ]
  },
  {
   "cell_type": "code",
   "execution_count": 45,
   "metadata": {},
   "outputs": [
    {
     "data": {
      "text/plain": [
       "[<matplotlib.lines.Line2D at 0x7f70c4478e20>]"
      ]
     },
     "execution_count": 45,
     "metadata": {},
     "output_type": "execute_result"
    },
    {
     "data": {
      "image/png": "[encoded data removed]",
      "text/plain": [
       "<Figure size 640x480 with 1 Axes>"
      ]
     },
     "metadata": {},
     "output_type": "display_data"
    }
   ],
   "source": [
    "plt.plot(test_accs)\n"
   ]
  },
  {
   "cell_type": "code",
   "execution_count": null,
   "metadata": {},
   "outputs": [],
   "source": []
  },
  {
   "cell_type": "code",
   "execution_count": 40,
   "metadata": {},
   "outputs": [
    {
     "data": {
      "text/plain": [
       "[<matplotlib.lines.Line2D at 0x7f70c45f0550>]"
      ]
     },
     "execution_count": 40,
     "metadata": {},
     "output_type": "execute_result"
    },
    {
     "data": {
      "image/png": "[encoded data removed]",
      "text/plain": [
       "<Figure size 640x480 with 1 Axes>"
      ]
     },
     "metadata": {},
     "output_type": "display_data"
    }
   ],
   "source": [
    "plt.plot(test_accs)"
   ]
  },
  {
   "cell_type": "code",
   "execution_count": 37,
   "metadata": {},
   "outputs": [
    {
     "data": {
      "text/plain": [
       "[<matplotlib.lines.Line2D at 0x7f70c4986830>]"
      ]
     },
     "execution_count": 37,
     "metadata": {},
     "output_type": "execute_result"
    },
    {
     "data": {
      "image/png": "[encoded data removed]",
      "text/plain": [
       "<Figure size 640x480 with 1 Axes>"
      ]
     },
     "metadata": {},
     "output_type": "display_data"
    }
   ],
   "source": [
    "plt.plot(test_accs)"
   ]
  },
  {
   "cell_type": "code",
   "execution_count": null,
   "metadata": {},
   "outputs": [],
   "source": []
  }
 ],
 "metadata": {
  "kernelspec": {
   "display_name": "Python 3.10.12 64-bit",
   "language": "python",
   "name": "python3"
  },
  "language_info": {
   "codemirror_mode": {
    "name": "ipython",
    "version": 3
   },
   "file_extension": ".py",
   "mimetype": "text/x-python",
   "name": "python",
   "nbconvert_exporter": "python",
   "pygments_lexer": "ipython3",
   "version": "3.10.12"
  },
  "orig_nbformat": 4,
  "vscode": {
   "interpreter": {
    "hash": "916dbcbb3f70747c44a77c7bcd40155683ae19c65e1c03b4aa3499c5328201f1"
   }
  }
 },
 "nbformat": 4,
 "nbformat_minor": 2
}

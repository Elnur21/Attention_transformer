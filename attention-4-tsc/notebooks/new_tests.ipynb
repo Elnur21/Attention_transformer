{
 "cells": [
  {
   "cell_type": "code",
   "execution_count": 1,
   "metadata": {},
   "outputs": [],
   "source": [
    "import matplotlib.pyplot as plt\n",
    "import numpy as np\n",
    "import random\n",
    "import math\n",
    "import pandas as pd\n",
    "# series = np.zeros(25)\n",
    "# centre = random.randint(7,17)\n",
    "# size = random.randrange(5,15,2)\n",
    "# height = random.randint(1,25)\n",
    "# if (size%2)==0:\n",
    "#     series[centre-math.floor(size/2):centre+math.floor(size/2)]=1\n",
    "# else:\n",
    "#     series[centre-math.floor(size/2):centre+math.floor(size/2)+1]=1\n",
    "# return series*height, height\n"
   ]
  },
  {
   "cell_type": "code",
   "execution_count": 98,
   "metadata": {},
   "outputs": [],
   "source": [
    "cur_root_dir = '/home/javidan/Codes/UCRArchive_2018'\n",
    "\n",
    "for dataset_name in ['LargeKitchenAppliances']:\n",
    "    df_train =  pd.read_csv(cur_root_dir + '/' + dataset_name + '/' + dataset_name + '_TRAIN.tsv', sep='\\t', header=None)\n",
    "    df_test =  pd.read_csv(cur_root_dir + '/' + dataset_name + '/' + dataset_name + '_TEST.tsv', sep='\\t', header=None)\n",
    "\n",
    "    y_train = df_train.values[:, 0]\n",
    "    y_test = df_test.values[:, 0]\n",
    "    \n",
    "    x_train = df_train.drop(columns=[0])\n",
    "    x_test = df_test.drop(columns=[0])\n",
    "    \n",
    "    x_train.columns = range(x_train.shape[1])\n",
    "    x_test.columns = range(x_test.shape[1])\n",
    "    \n",
    "    x_train = x_train.values\n",
    "    x_test = x_test.values\n",
    "    \n",
    "    # znorm\n",
    "    std_ = x_train.std(axis=1, keepdims=True)\n",
    "    std_[std_ == 0] = 1.0\n",
    "    x_train = (x_train - x_train.mean(axis=1, keepdims=True)) / std_\n",
    "    \n",
    "    std_ = x_test.std(axis=1, keepdims=True)\n",
    "    std_[std_ == 0] = 1.0\n",
    "    x_test = (x_test - x_test.mean(axis=1, keepdims=True)) / std_\n",
    "    \n"
   ]
  },
  {
   "cell_type": "code",
   "execution_count": 84,
   "metadata": {},
   "outputs": [
    {
     "data": {
      "text/html": [
       "<div>\n",
       "<style scoped>\n",
       "    .dataframe tbody tr th:only-of-type {\n",
       "        vertical-align: middle;\n",
       "    }\n",
       "\n",
       "    .dataframe tbody tr th {\n",
       "        vertical-align: top;\n",
       "    }\n",
       "\n",
       "    .dataframe thead th {\n",
       "        text-align: right;\n",
       "    }\n",
       "</style>\n",
       "<table border=\"1\" class=\"dataframe\">\n",
       "  <thead>\n",
       "    <tr style=\"text-align: right;\">\n",
       "      <th></th>\n",
       "      <th>0</th>\n",
       "      <th>1</th>\n",
       "      <th>2</th>\n",
       "      <th>3</th>\n",
       "      <th>4</th>\n",
       "      <th>5</th>\n",
       "      <th>6</th>\n",
       "      <th>7</th>\n",
       "      <th>8</th>\n",
       "      <th>9</th>\n",
       "      <th>...</th>\n",
       "      <th>711</th>\n",
       "      <th>712</th>\n",
       "      <th>713</th>\n",
       "      <th>714</th>\n",
       "      <th>715</th>\n",
       "      <th>716</th>\n",
       "      <th>717</th>\n",
       "      <th>718</th>\n",
       "      <th>719</th>\n",
       "      <th>720</th>\n",
       "    </tr>\n",
       "  </thead>\n",
       "  <tbody>\n",
       "    <tr>\n",
       "      <th>100</th>\n",
       "      <td>1</td>\n",
       "      <td>-0.129946</td>\n",
       "      <td>-0.113862</td>\n",
       "      <td>-0.129946</td>\n",
       "      <td>-0.129946</td>\n",
       "      <td>-0.113862</td>\n",
       "      <td>-0.129946</td>\n",
       "      <td>-0.129946</td>\n",
       "      <td>-0.113862</td>\n",
       "      <td>-0.129946</td>\n",
       "      <td>...</td>\n",
       "      <td>-0.113862</td>\n",
       "      <td>-0.129946</td>\n",
       "      <td>-0.129946</td>\n",
       "      <td>-0.113862</td>\n",
       "      <td>-0.129946</td>\n",
       "      <td>-0.129946</td>\n",
       "      <td>-0.113862</td>\n",
       "      <td>-0.129946</td>\n",
       "      <td>-0.129946</td>\n",
       "      <td>-0.113862</td>\n",
       "    </tr>\n",
       "    <tr>\n",
       "      <th>101</th>\n",
       "      <td>1</td>\n",
       "      <td>-0.128028</td>\n",
       "      <td>-0.111904</td>\n",
       "      <td>-0.128028</td>\n",
       "      <td>-0.128028</td>\n",
       "      <td>-0.111904</td>\n",
       "      <td>-0.128028</td>\n",
       "      <td>-0.128028</td>\n",
       "      <td>-0.111904</td>\n",
       "      <td>-0.128028</td>\n",
       "      <td>...</td>\n",
       "      <td>-0.111904</td>\n",
       "      <td>-0.128028</td>\n",
       "      <td>-0.128028</td>\n",
       "      <td>-0.111904</td>\n",
       "      <td>-0.128028</td>\n",
       "      <td>-0.128028</td>\n",
       "      <td>-0.111904</td>\n",
       "      <td>-0.128028</td>\n",
       "      <td>-0.128028</td>\n",
       "      <td>-0.111904</td>\n",
       "    </tr>\n",
       "    <tr>\n",
       "      <th>102</th>\n",
       "      <td>1</td>\n",
       "      <td>-0.179835</td>\n",
       "      <td>-0.179835</td>\n",
       "      <td>-0.168413</td>\n",
       "      <td>-0.179835</td>\n",
       "      <td>-0.179835</td>\n",
       "      <td>-0.168413</td>\n",
       "      <td>-0.179835</td>\n",
       "      <td>-0.179835</td>\n",
       "      <td>-0.168413</td>\n",
       "      <td>...</td>\n",
       "      <td>-0.179835</td>\n",
       "      <td>-0.179835</td>\n",
       "      <td>-0.168413</td>\n",
       "      <td>-0.179835</td>\n",
       "      <td>-0.179835</td>\n",
       "      <td>-0.168413</td>\n",
       "      <td>-0.179835</td>\n",
       "      <td>-0.168413</td>\n",
       "      <td>-0.179835</td>\n",
       "      <td>-0.179835</td>\n",
       "    </tr>\n",
       "    <tr>\n",
       "      <th>103</th>\n",
       "      <td>1</td>\n",
       "      <td>-0.183019</td>\n",
       "      <td>-0.194103</td>\n",
       "      <td>-0.194103</td>\n",
       "      <td>-0.183019</td>\n",
       "      <td>-0.194103</td>\n",
       "      <td>-0.194103</td>\n",
       "      <td>-0.183019</td>\n",
       "      <td>-0.194103</td>\n",
       "      <td>-0.194103</td>\n",
       "      <td>...</td>\n",
       "      <td>-0.183019</td>\n",
       "      <td>-0.194103</td>\n",
       "      <td>-0.194103</td>\n",
       "      <td>-0.183019</td>\n",
       "      <td>-0.194103</td>\n",
       "      <td>-0.194103</td>\n",
       "      <td>-0.183019</td>\n",
       "      <td>-0.194103</td>\n",
       "      <td>-0.194103</td>\n",
       "      <td>-0.183019</td>\n",
       "    </tr>\n",
       "    <tr>\n",
       "      <th>104</th>\n",
       "      <td>1</td>\n",
       "      <td>-0.136529</td>\n",
       "      <td>-0.120308</td>\n",
       "      <td>-0.136529</td>\n",
       "      <td>-0.136529</td>\n",
       "      <td>-0.120308</td>\n",
       "      <td>-0.136529</td>\n",
       "      <td>-0.136529</td>\n",
       "      <td>-0.120308</td>\n",
       "      <td>-0.136529</td>\n",
       "      <td>...</td>\n",
       "      <td>-0.136529</td>\n",
       "      <td>-0.136529</td>\n",
       "      <td>-0.120308</td>\n",
       "      <td>-0.136529</td>\n",
       "      <td>-0.136529</td>\n",
       "      <td>-0.120308</td>\n",
       "      <td>-0.136529</td>\n",
       "      <td>-0.136529</td>\n",
       "      <td>-0.120308</td>\n",
       "      <td>-0.136529</td>\n",
       "    </tr>\n",
       "    <tr>\n",
       "      <th>...</th>\n",
       "      <td>...</td>\n",
       "      <td>...</td>\n",
       "      <td>...</td>\n",
       "      <td>...</td>\n",
       "      <td>...</td>\n",
       "      <td>...</td>\n",
       "      <td>...</td>\n",
       "      <td>...</td>\n",
       "      <td>...</td>\n",
       "      <td>...</td>\n",
       "      <td>...</td>\n",
       "      <td>...</td>\n",
       "      <td>...</td>\n",
       "      <td>...</td>\n",
       "      <td>...</td>\n",
       "      <td>...</td>\n",
       "      <td>...</td>\n",
       "      <td>...</td>\n",
       "      <td>...</td>\n",
       "      <td>...</td>\n",
       "      <td>...</td>\n",
       "    </tr>\n",
       "    <tr>\n",
       "      <th>195</th>\n",
       "      <td>2</td>\n",
       "      <td>-0.181826</td>\n",
       "      <td>-0.172873</td>\n",
       "      <td>-0.172873</td>\n",
       "      <td>-0.181826</td>\n",
       "      <td>-0.172873</td>\n",
       "      <td>-0.172873</td>\n",
       "      <td>-0.181826</td>\n",
       "      <td>-0.172873</td>\n",
       "      <td>-0.172873</td>\n",
       "      <td>...</td>\n",
       "      <td>-0.172873</td>\n",
       "      <td>-0.181826</td>\n",
       "      <td>-0.172873</td>\n",
       "      <td>-0.172873</td>\n",
       "      <td>-0.181826</td>\n",
       "      <td>-0.172873</td>\n",
       "      <td>-0.181826</td>\n",
       "      <td>-0.172873</td>\n",
       "      <td>-0.172873</td>\n",
       "      <td>-0.181826</td>\n",
       "    </tr>\n",
       "    <tr>\n",
       "      <th>196</th>\n",
       "      <td>2</td>\n",
       "      <td>-0.174838</td>\n",
       "      <td>-0.174838</td>\n",
       "      <td>-0.183554</td>\n",
       "      <td>-0.174838</td>\n",
       "      <td>-0.174838</td>\n",
       "      <td>-0.183554</td>\n",
       "      <td>-0.174838</td>\n",
       "      <td>-0.174838</td>\n",
       "      <td>-0.183554</td>\n",
       "      <td>...</td>\n",
       "      <td>-0.183554</td>\n",
       "      <td>-0.174838</td>\n",
       "      <td>-0.174838</td>\n",
       "      <td>-0.183554</td>\n",
       "      <td>-0.174838</td>\n",
       "      <td>-0.174838</td>\n",
       "      <td>-0.183554</td>\n",
       "      <td>-0.174838</td>\n",
       "      <td>-0.174838</td>\n",
       "      <td>-0.183554</td>\n",
       "    </tr>\n",
       "    <tr>\n",
       "      <th>197</th>\n",
       "      <td>2</td>\n",
       "      <td>-0.172706</td>\n",
       "      <td>-0.172706</td>\n",
       "      <td>-0.181515</td>\n",
       "      <td>-0.172706</td>\n",
       "      <td>-0.172706</td>\n",
       "      <td>-0.181515</td>\n",
       "      <td>-0.172706</td>\n",
       "      <td>-0.172706</td>\n",
       "      <td>-0.181515</td>\n",
       "      <td>...</td>\n",
       "      <td>-0.172706</td>\n",
       "      <td>-0.172706</td>\n",
       "      <td>-0.181515</td>\n",
       "      <td>-0.172706</td>\n",
       "      <td>-0.172706</td>\n",
       "      <td>-0.181515</td>\n",
       "      <td>-0.172706</td>\n",
       "      <td>-0.172706</td>\n",
       "      <td>-0.181515</td>\n",
       "      <td>-0.172706</td>\n",
       "    </tr>\n",
       "    <tr>\n",
       "      <th>198</th>\n",
       "      <td>2</td>\n",
       "      <td>-0.172831</td>\n",
       "      <td>-0.181640</td>\n",
       "      <td>-0.172831</td>\n",
       "      <td>-0.172831</td>\n",
       "      <td>-0.181640</td>\n",
       "      <td>-0.172831</td>\n",
       "      <td>-0.172831</td>\n",
       "      <td>-0.181640</td>\n",
       "      <td>-0.172831</td>\n",
       "      <td>...</td>\n",
       "      <td>-0.172831</td>\n",
       "      <td>-0.172831</td>\n",
       "      <td>-0.181640</td>\n",
       "      <td>-0.172831</td>\n",
       "      <td>-0.172831</td>\n",
       "      <td>-0.181640</td>\n",
       "      <td>-0.172831</td>\n",
       "      <td>-0.172831</td>\n",
       "      <td>-0.181640</td>\n",
       "      <td>-0.172831</td>\n",
       "    </tr>\n",
       "    <tr>\n",
       "      <th>199</th>\n",
       "      <td>2</td>\n",
       "      <td>-0.185777</td>\n",
       "      <td>-0.177246</td>\n",
       "      <td>-0.185777</td>\n",
       "      <td>-0.177246</td>\n",
       "      <td>-0.185777</td>\n",
       "      <td>-0.177246</td>\n",
       "      <td>-0.185777</td>\n",
       "      <td>-0.185777</td>\n",
       "      <td>-0.177246</td>\n",
       "      <td>...</td>\n",
       "      <td>-0.177246</td>\n",
       "      <td>-0.185777</td>\n",
       "      <td>-0.177246</td>\n",
       "      <td>-0.177246</td>\n",
       "      <td>-0.185777</td>\n",
       "      <td>-0.177246</td>\n",
       "      <td>-0.177246</td>\n",
       "      <td>-0.185777</td>\n",
       "      <td>-0.177246</td>\n",
       "      <td>-0.177246</td>\n",
       "    </tr>\n",
       "  </tbody>\n",
       "</table>\n",
       "<p>100 rows × 721 columns</p>\n",
       "</div>"
      ],
      "text/plain": [
       "     0         1         2         3         4         5         6    \\\n",
       "100    1 -0.129946 -0.113862 -0.129946 -0.129946 -0.113862 -0.129946   \n",
       "101    1 -0.128028 -0.111904 -0.128028 -0.128028 -0.111904 -0.128028   \n",
       "102    1 -0.179835 -0.179835 -0.168413 -0.179835 -0.179835 -0.168413   \n",
       "103    1 -0.183019 -0.194103 -0.194103 -0.183019 -0.194103 -0.194103   \n",
       "104    1 -0.136529 -0.120308 -0.136529 -0.136529 -0.120308 -0.136529   \n",
       "..   ...       ...       ...       ...       ...       ...       ...   \n",
       "195    2 -0.181826 -0.172873 -0.172873 -0.181826 -0.172873 -0.172873   \n",
       "196    2 -0.174838 -0.174838 -0.183554 -0.174838 -0.174838 -0.183554   \n",
       "197    2 -0.172706 -0.172706 -0.181515 -0.172706 -0.172706 -0.181515   \n",
       "198    2 -0.172831 -0.181640 -0.172831 -0.172831 -0.181640 -0.172831   \n",
       "199    2 -0.185777 -0.177246 -0.185777 -0.177246 -0.185777 -0.177246   \n",
       "\n",
       "          7         8         9    ...       711       712       713  \\\n",
       "100 -0.129946 -0.113862 -0.129946  ... -0.113862 -0.129946 -0.129946   \n",
       "101 -0.128028 -0.111904 -0.128028  ... -0.111904 -0.128028 -0.128028   \n",
       "102 -0.179835 -0.179835 -0.168413  ... -0.179835 -0.179835 -0.168413   \n",
       "103 -0.183019 -0.194103 -0.194103  ... -0.183019 -0.194103 -0.194103   \n",
       "104 -0.136529 -0.120308 -0.136529  ... -0.136529 -0.136529 -0.120308   \n",
       "..        ...       ...       ...  ...       ...       ...       ...   \n",
       "195 -0.181826 -0.172873 -0.172873  ... -0.172873 -0.181826 -0.172873   \n",
       "196 -0.174838 -0.174838 -0.183554  ... -0.183554 -0.174838 -0.174838   \n",
       "197 -0.172706 -0.172706 -0.181515  ... -0.172706 -0.172706 -0.181515   \n",
       "198 -0.172831 -0.181640 -0.172831  ... -0.172831 -0.172831 -0.181640   \n",
       "199 -0.185777 -0.185777 -0.177246  ... -0.177246 -0.185777 -0.177246   \n",
       "\n",
       "          714       715       716       717       718       719       720  \n",
       "100 -0.113862 -0.129946 -0.129946 -0.113862 -0.129946 -0.129946 -0.113862  \n",
       "101 -0.111904 -0.128028 -0.128028 -0.111904 -0.128028 -0.128028 -0.111904  \n",
       "102 -0.179835 -0.179835 -0.168413 -0.179835 -0.168413 -0.179835 -0.179835  \n",
       "103 -0.183019 -0.194103 -0.194103 -0.183019 -0.194103 -0.194103 -0.183019  \n",
       "104 -0.136529 -0.136529 -0.120308 -0.136529 -0.136529 -0.120308 -0.136529  \n",
       "..        ...       ...       ...       ...       ...       ...       ...  \n",
       "195 -0.172873 -0.181826 -0.172873 -0.181826 -0.172873 -0.172873 -0.181826  \n",
       "196 -0.183554 -0.174838 -0.174838 -0.183554 -0.174838 -0.174838 -0.183554  \n",
       "197 -0.172706 -0.172706 -0.181515 -0.172706 -0.172706 -0.181515 -0.172706  \n",
       "198 -0.172831 -0.172831 -0.181640 -0.172831 -0.172831 -0.181640 -0.172831  \n",
       "199 -0.177246 -0.185777 -0.177246 -0.177246 -0.185777 -0.177246 -0.177246  \n",
       "\n",
       "[100 rows x 721 columns]"
      ]
     },
     "execution_count": 84,
     "metadata": {},
     "output_type": "execute_result"
    }
   ],
   "source": [
    "df_train[100:200]"
   ]
  },
  {
   "cell_type": "code",
   "execution_count": 82,
   "metadata": {},
   "outputs": [
    {
     "data": {
      "text/plain": [
       "[<matplotlib.lines.Line2D at 0x7f9767247370>]"
      ]
     },
     "execution_count": 82,
     "metadata": {},
     "output_type": "execute_result"
    },
    {
     "data": {
      "image/png": "[encoded data removed]",
      "text/plain": [
       "<Figure size 640x480 with 1 Axes>"
      ]
     },
     "metadata": {},
     "output_type": "display_data"
    }
   ],
   "source": [
    "plt.plot(df_train[0].tolist())\n",
    "plt.plot(df_train[195].tolist())\n",
    "\n",
    "plt.plot(df_train[374].tolist())"
   ]
  },
  {
   "cell_type": "code",
   "execution_count": 85,
   "metadata": {},
   "outputs": [
    {
     "data": {
      "text/plain": [
       "[<matplotlib.lines.Line2D at 0x7f976729f850>]"
      ]
     },
     "execution_count": 85,
     "metadata": {},
     "output_type": "execute_result"
    },
    {
     "data": {
      "image/png": "[encoded data removed]",
      "text/plain": [
       "<Figure size 640x480 with 1 Axes>"
      ]
     },
     "metadata": {},
     "output_type": "display_data"
    }
   ],
   "source": [
    "plt.plot(df_train[0].tolist())\n",
    "plt.plot(df_train[195].tolist())\n",
    "\n",
    "plt.plot(df_train[374].tolist())"
   ]
  },
  {
   "cell_type": "code",
   "execution_count": 96,
   "metadata": {},
   "outputs": [],
   "source": [
    "y_train"
   ]
  },
  {
   "cell_type": "code",
   "execution_count": 122,
   "metadata": {},
   "outputs": [
    {
     "data": {
      "text/plain": [
       "(375, 720)"
      ]
     },
     "execution_count": 122,
     "metadata": {},
     "output_type": "execute_result"
    }
   ],
   "source": [
    "x_train.shape"
   ]
  },
  {
   "cell_type": "code",
   "execution_count": 131,
   "metadata": {},
   "outputs": [
    {
     "name": "stdout",
     "output_type": "stream",
     "text": [
      "i =  0\n",
      "y_train:  3.0\n",
      "i =  1\n",
      "y_train:  3.0\n",
      "i =  2\n",
      "y_train:  3.0\n",
      "i =  3\n",
      "y_train:  3.0\n",
      "i =  4\n",
      "y_train:  3.0\n"
     ]
    },
    {
     "data": {
      "image/png": "[encoded data removed]",
      "text/plain": [
       "<Figure size 1000x600 with 5 Axes>"
      ]
     },
     "metadata": {},
     "output_type": "display_data"
    }
   ],
   "source": [
    "# Plot a few samples from the dataset\n",
    "n_samples = 5  # Number of samples to plot\n",
    "fig, axs = plt.subplots(n_samples, 1, figsize=(10, 6))\n",
    "delta = 310\n",
    "for i in range(n_samples):\n",
    "    print('i = ', i)\n",
    "    print('y_train: ', y_train[i+delta])\n",
    "    axs[i].plot(x_train[i+delta], label=f'Class {y_train[i]}')\n",
    "    axs[i].set_title(f'Sample {i+1}')\n",
    "    axs[i].legend()\n",
    "\n",
    "plt.suptitle(f'{dataset_name} Dataset - {n_samples} Samples')\n",
    "plt.tight_layout()\n",
    "plt.show()\n"
   ]
  },
  {
   "cell_type": "code",
   "execution_count": null,
   "metadata": {},
   "outputs": [],
   "source": []
  },
  {
   "cell_type": "code",
   "execution_count": null,
   "metadata": {},
   "outputs": [],
   "source": []
  },
  {
   "cell_type": "code",
   "execution_count": 2,
   "metadata": {},
   "outputs": [
    {
     "data": {
      "text/plain": [
       "[<matplotlib.lines.Line2D at 0x7faf490288e0>]"
      ]
     },
     "execution_count": 2,
     "metadata": {},
     "output_type": "execute_result"
    },
    {
     "data": {
      "image/png": "[encoded data removed]",
      "text/plain": [
       "<Figure size 640x480 with 1 Axes>"
      ]
     },
     "metadata": {},
     "output_type": "display_data"
    }
   ],
   "source": [
    "plt.plot(series)"
   ]
  },
  {
   "cell_type": "code",
   "execution_count": 3,
   "metadata": {},
   "outputs": [
    {
     "data": {
      "text/plain": [
       "17"
      ]
     },
     "execution_count": 3,
     "metadata": {},
     "output_type": "execute_result"
    }
   ],
   "source": [
    "centre"
   ]
  },
  {
   "cell_type": "code",
   "execution_count": 4,
   "metadata": {},
   "outputs": [
    {
     "data": {
      "text/plain": [
       "9"
      ]
     },
     "execution_count": 4,
     "metadata": {},
     "output_type": "execute_result"
    }
   ],
   "source": [
    "size"
   ]
  },
  {
   "cell_type": "code",
   "execution_count": 5,
   "metadata": {},
   "outputs": [
    {
     "data": {
      "text/plain": [
       "6"
      ]
     },
     "execution_count": 5,
     "metadata": {},
     "output_type": "execute_result"
    }
   ],
   "source": [
    "height"
   ]
  },
  {
   "cell_type": "code",
   "execution_count": 3,
   "metadata": {},
   "outputs": [],
   "source": [
    "import random\n",
    "import math"
   ]
  },
  {
   "cell_type": "markdown",
   "metadata": {},
   "source": [
    "#### Creation of class 1 samples"
   ]
  },
  {
   "cell_type": "code",
   "execution_count": 4,
   "metadata": {},
   "outputs": [],
   "source": [
    "def create_random_triangle_class():\n",
    "    series = np.zeros(25)\n",
    "    centre = random.randint(7,17)\n",
    "    size = random.randint(5,15)\n",
    "    height = random.randint(1,25)\n",
    "    \n",
    "    series[centre-math.floor(size/2):centre+1]=np.linspace(0,1,math.floor(size/2)+1)  \n",
    "    series[centre:centre+math.floor(size/2)+1]=np.linspace(1,0,math.floor(size/2)+1) \n",
    "    \n",
    "    return series * height\n",
    "\n",
    "def create_random_square():\n",
    "\tseries = np.zeros(25)\n",
    "\tcentre = random.randint(7,17)\n",
    "\tsize = random.randrange(5,15,2)\n",
    "\theight = random.randint(1,25)\n",
    "\tif (size%2)==0:\n",
    "\t\tseries[centre-math.floor(size/2):centre+math.floor(size/2)]=1\n",
    "\telse:\n",
    "\t\tseries[centre-math.floor(size/2):centre+math.floor(size/2)+1]=1\n",
    "\treturn series*height\n",
    "\n",
    "\n",
    "\n",
    "def create_ds_with_class():\n",
    "    subseries = []\n",
    "    rand_square1 = create_random_triangle_class()\n",
    "    rand_square2 = np.zeros(25)\n",
    "\n",
    "    subseries.append(rand_square2)\n",
    "    subseries.append(rand_square2)\n",
    "    subseries.append(rand_square2)\n",
    "    subseries.append(rand_square1)\n",
    "    subseries.append(rand_square2)\n",
    "    subseries.append(rand_square2)\n",
    "    subseries.append(rand_square2)\n",
    "    subseries.append(rand_square2)\n",
    "    # rand_square4 = create_random_square()\n",
    "    subseries.append(rand_square2)\n",
    "    subseries.append(rand_square2)\n",
    "    subseries.append(rand_square2)\n",
    "    subseries.append(rand_square2)\n",
    "\n",
    "    order = np.arange(12)\n",
    "    series = subseries[order[0]]\n",
    "\n",
    "    for i in range(1,12):\n",
    "        series = np.concatenate((series,subseries[order[i]]))\n",
    "\n",
    "    return series.reshape(300, 1)\n",
    "\n",
    "def create_toys_dataset_class_1(num_samples):\n",
    "\tdataset_input = np.empty((num_samples,300,1))\n",
    "\tfor i in range(num_samples):\n",
    "\t\tdataset_input[i] = create_ds_with_class()\n",
    "\treturn dataset_input\n"
   ]
  },
  {
   "cell_type": "markdown",
   "metadata": {},
   "source": [
    "#### Creation of class 2 samples"
   ]
  },
  {
   "cell_type": "code",
   "execution_count": 5,
   "metadata": {},
   "outputs": [],
   "source": [
    "def create_ds_with_class_2():\n",
    "    subseries = []\n",
    "\n",
    "    rand_square1 = np.zeros(25)\n",
    "    subseries.append(rand_square1)    \n",
    "    subseries.append(rand_square1)\n",
    "    subseries.append(rand_square1)\n",
    "    rand_square2 = create_random_triangle_class()\n",
    "    subseries.append(rand_square2)\n",
    "\n",
    "    order = np.arange(4)\n",
    "    series = subseries[order[0]]\n",
    "\n",
    "    for i in range(1,4):\n",
    "        series = np.concatenate((series,subseries[order[i]]))\n",
    "\n",
    "    return series.reshape(150, 1)\n",
    "\n",
    "def create_toys_dataset_class_2(num_samples):\n",
    "\tdataset_input = np.empty((num_samples,100,1))\n",
    "\tfor i in range(num_samples):\n",
    "\t\tdataset_input[i] = create_ds_with_class_2()\n",
    "\n",
    "\treturn dataset_input"
   ]
  },
  {
   "cell_type": "markdown",
   "metadata": {},
   "source": [
    "#### Make the dataset"
   ]
  },
  {
   "cell_type": "code",
   "execution_count": 6,
   "metadata": {},
   "outputs": [],
   "source": [
    "input_class_1 = create_toys_dataset_class_1(100)\n",
    "# input_class_2 = create_toys_dataset_class_2(100)\n",
    "input_class_2 = input_class_1[:, ::-1, :]\n",
    "\n",
    "target_1 = np.zeros(100)\n",
    "target_2 = np.ones(100)\n",
    "\n",
    "X = np.concatenate((input_class_1, input_class_2))\n",
    "y = np.concatenate((target_1, target_2))"
   ]
  },
  {
   "cell_type": "markdown",
   "metadata": {},
   "source": [
    "#### Plot 2 samples with different classes from the dataset\n"
   ]
  },
  {
   "cell_type": "code",
   "execution_count": 7,
   "metadata": {},
   "outputs": [
    {
     "data": {
      "text/plain": [
       "[<matplotlib.lines.Line2D at 0x7f983d421d50>]"
      ]
     },
     "execution_count": 7,
     "metadata": {},
     "output_type": "execute_result"
    },
    {
     "data": {
      "image/png": "[encoded data removed]",
      "text/plain": [
       "<Figure size 640x480 with 1 Axes>"
      ]
     },
     "metadata": {},
     "output_type": "display_data"
    }
   ],
   "source": [
    "plt.plot(input_class_1[0])\n",
    "plt.plot(input_class_2[0])"
   ]
  },
  {
   "cell_type": "markdown",
   "metadata": {},
   "source": [
    "#### Preprocess the data before training"
   ]
  },
  {
   "cell_type": "code",
   "execution_count": 8,
   "metadata": {},
   "outputs": [],
   "source": [
    "# Spltit all data into training and test sets\n",
    "from sklearn.model_selection import train_test_split\n",
    "X_train, X_test, y_train, y_test = train_test_split(X, y, test_size=0.2, stratify=y, random_state=42)\n",
    "\n",
    "\n",
    "from sklearn.preprocessing import LabelEncoder\n",
    "\n",
    "def transform_labels(y_train, y_test):\n",
    "    \"\"\"\n",
    "    Transform label to min equal zero and continuous\n",
    "    For example if we have [1,3,4] --->  [0,1,2]\n",
    "    \"\"\"\n",
    "    encoder = LabelEncoder()\n",
    "    y_train_test = np.concatenate((y_train, y_test), axis=0)\n",
    "    encoder.fit(y_train_test)\n",
    "    # transform to min zero and continuous labels\n",
    "    new_y_train_test = encoder.transform(y_train_test)\n",
    "    # resplit the train and test\n",
    "    new_y_train = new_y_train_test[0:len(y_train)]\n",
    "    new_y_test = new_y_train_test[len(y_train):]\n",
    "    return new_y_train, new_y_test\n",
    "\n",
    "# Apply LabelEncoder on the target variable\n",
    "y_train, y_test = transform_labels(y_train, y_test)\n",
    "\n",
    "# Normalize the data\n",
    "mu = X_train.mean()\n",
    "std = X_train.std()\n",
    "X_train = (X_train-mu)/std\n",
    "\n",
    "mu_y = X_test.mean()\n",
    "std_y = X_test.std()\n",
    "X_test = (X_test-mu_y)/std_y\n",
    "\n",
    "# Convert numpy arrays to pytorch tensors\n",
    "import torch\n",
    "from torch.utils.data import DataLoader, TensorDataset\n",
    "\n",
    "X_train, y_train = torch.from_numpy(X_train).permute(0, 2, 1), torch.from_numpy(y_train)\n",
    "X_test, y_test = torch.from_numpy(X_test).permute(0, 2, 1), torch.from_numpy(y_test)\n",
    "\n",
    "trainlaoder = DataLoader(TensorDataset(X_train, y_train), batch_size=16, shuffle=True)\n",
    "testloader = DataLoader(TensorDataset(X_test, y_test), batch_size=16, shuffle=False)"
   ]
  },
  {
   "cell_type": "markdown",
   "metadata": {},
   "source": [
    "### Classifier Model - Convolution"
   ]
  },
  {
   "cell_type": "code",
   "execution_count": 15,
   "metadata": {},
   "outputs": [],
   "source": [
    "from torch import nn\n",
    "\n",
    "class FCN_1_layer(nn.Module):\n",
    "\n",
    "    def __init__(self, input_shape, nb_classes, filter_count):\n",
    "        super(FCN_1_layer, self).__init__()\n",
    "        self.nb_classes = nb_classes\n",
    "        self.filter_count = filter_count\n",
    "\n",
    "        self.conv1 = nn.Conv1d(in_channels=1, out_channels=self.filter_count, kernel_size=50, stride=1, padding='same', bias=False)\n",
    "        self.bn1 = nn.BatchNorm1d(self.filter_count,)\n",
    "    \n",
    "        self.conv2 = nn.Conv1d(in_channels=self.filter_count, out_channels=self.filter_count, kernel_size=50, stride=1, padding='same', bias=False)\n",
    "        self.bn2 = nn.BatchNorm1d(self.filter_count,)\n",
    "\n",
    "            \n",
    "        self.conv3 = nn.Conv1d(in_channels=self.filter_count, out_channels=self.filter_count, kernel_size=40, stride=1, padding='same', bias=False)\n",
    "        self.bn3 = nn.BatchNorm1d(self.filter_count,)\n",
    "\n",
    "        self.relu = nn.ReLU()\n",
    "\n",
    "        self.avgpool1 = nn.AdaptiveAvgPool1d(1)\n",
    "        self.fc1 = nn.Linear(self.filter_count, self.nb_classes)\n",
    "\n",
    "    def forward(self, x):\n",
    "        # First convolutional block\n",
    "        x = self.conv1(x)\n",
    "        x = self.bn1(x)\n",
    "        x = self.relu(x)\n",
    "\n",
    "        # Second convolutional block\n",
    "        x = self.conv2(x)\n",
    "        x = self.bn2(x)\n",
    "        x = self.relu(x)\n",
    "        \n",
    "        # Third convolutional block\n",
    "        x = self.conv3(x)\n",
    "        x = self.bn3(x)\n",
    "        x = self.relu(x)\n",
    "\n",
    "        x = self.avgpool1(x)\n",
    "        x = x.reshape(x.shape[0], -1)\n",
    "        x = self.fc1(x)\n",
    "\n",
    "        return x"
   ]
  },
  {
   "cell_type": "markdown",
   "metadata": {},
   "source": [
    "### Train the model"
   ]
  },
  {
   "cell_type": "code",
   "execution_count": 9,
   "metadata": {},
   "outputs": [],
   "source": [
    "device = torch.device(\"cuda\" if torch.cuda.is_available() else \"cpu\")"
   ]
  },
  {
   "cell_type": "code",
   "execution_count": 10,
   "metadata": {},
   "outputs": [],
   "source": [
    "def test(model):\n",
    "    with torch.no_grad():\n",
    "        model.eval()\n",
    "        test_loss = 0\n",
    "        correct = 0\n",
    "        total = 0\n",
    "\n",
    "        for b_idx, (x, y) in enumerate(testloader):\n",
    "            (x, y) = x.to(device), y.to(device)\n",
    "            pred = model(x.float())\n",
    "\n",
    "            loss = lossFn(pred, y)\n",
    "            test_loss += loss.item()\n",
    "\n",
    "            total += y.size(0)\n",
    "            correct += (pred.argmax(1) == y).type(torch.float).sum().item()\n",
    "\n",
    "        print('Test Loss: %.3f | Test Acc: %.3f%% (%d/%d)' % (test_loss / (b_idx + 1), 100. * correct / total, correct, total))\n",
    "        return test_loss / (b_idx + 1), 100. * correct / total"
   ]
  },
  {
   "cell_type": "code",
   "execution_count": null,
   "metadata": {},
   "outputs": [],
   "source": [
    "import torch.optim as optim\n",
    "\n",
    "model = FCN_1_layer((100, 1), 2, 128)\n",
    "lossFn = nn.CrossEntropyLoss()\n",
    "optimizer = optim.Adam(model.parameters(), lr=0.001,)\n",
    "EPOCHS = 1000\n",
    "\n",
    "model.to(device)\n",
    "\n",
    "train_losses, test_losses, test_accs = [], [], []\n",
    "\n",
    "for e in range(0, EPOCHS):\n",
    "    model.train()\n",
    "\n",
    "    # initlaize total training loss\n",
    "    totalTainLoss = 0\n",
    "\n",
    "    # initialize number of correct predictions in the training\n",
    "    trainCorrect = 0\n",
    "\n",
    "    for (x, y) in trainlaoder:\n",
    "        # send the input to the device\n",
    "        x, y = x.to(device), y.to(device)\n",
    "        \n",
    "        # perform a forward pass and calculate the training loss\n",
    "        pred = model(x.float())\n",
    "        loss = lossFn(pred, y)\n",
    "\n",
    "        optimizer.zero_grad()\n",
    "        loss.backward()\n",
    "        optimizer.step()\n",
    "\n",
    "        totalTainLoss += loss\n",
    "        trainCorrect += (pred.argmax(1) == y).type(torch.float).sum().item()\n",
    "\n",
    "\n",
    "    print('Train loss: ', totalTainLoss.item())\n",
    "    train_losses.append(totalTainLoss.item())\n",
    "    test_loss, test_acc = test(model)\n",
    "    test_losses.append(test_loss)\n",
    "    test_accs.append(test_acc)\n"
   ]
  },
  {
   "cell_type": "code",
   "execution_count": 274,
   "metadata": {},
   "outputs": [
    {
     "data": {
      "text/plain": [
       "6.721059799194336"
      ]
     },
     "execution_count": 274,
     "metadata": {},
     "output_type": "execute_result"
    }
   ],
   "source": [
    "totalTainLoss.item()"
   ]
  },
  {
   "cell_type": "code",
   "execution_count": 280,
   "metadata": {},
   "outputs": [
    {
     "data": {
      "text/plain": [
       "[<matplotlib.lines.Line2D at 0x7faeb9562e60>]"
      ]
     },
     "execution_count": 280,
     "metadata": {},
     "output_type": "execute_result"
    },
    {
     "data": {
      "image/png": "[encoded data removed]",
      "text/plain": [
       "<Figure size 640x480 with 1 Axes>"
      ]
     },
     "metadata": {},
     "output_type": "display_data"
    }
   ],
   "source": [
    "plt.plot(train_losses)\n",
    "plt.plot(test_losses)"
   ]
  },
  {
   "cell_type": "code",
   "execution_count": 245,
   "metadata": {},
   "outputs": [
    {
     "data": {
      "text/plain": [
       "[<matplotlib.lines.Line2D at 0x7faeb98e5750>]"
      ]
     },
     "execution_count": 245,
     "metadata": {},
     "output_type": "execute_result"
    },
    {
     "data": {
      "image/png": "[encoded data removed]",
      "text/plain": [
       "<Figure size 640x480 with 1 Axes>"
      ]
     },
     "metadata": {},
     "output_type": "display_data"
    }
   ],
   "source": [
    "plt.plot(test_accs)"
   ]
  },
  {
   "cell_type": "markdown",
   "metadata": {},
   "source": [
    "### Classifier Model - Attention"
   ]
  },
  {
   "cell_type": "markdown",
   "metadata": {},
   "source": [
    "##### Positional Encoding"
   ]
  },
  {
   "cell_type": "code",
   "execution_count": null,
   "metadata": {},
   "outputs": [
    {
     "ename": "",
     "evalue": "",
     "output_type": "error",
     "traceback": [
      "\u001b[1;31mRunning cells with 'env' requires the ipykernel package.\n",
      "\u001b[1;31mRun the following command to install 'ipykernel' into the Python environment. \n",
      "\u001b[1;31mCommand: '/run/user/1005/gvfs/sftp:host=10.59.251.9,port=2222,user=elnur/home/elnur/Desktop/Attention_transformers/env/bin/python -m pip install ipykernel -U --force-reinstall'"
     ]
    }
   ],
   "source": [
    "class AbsolutePositionalEncoding(nn.Module):\n",
    "    r\"\"\"Inject some information about the relative or absolute position of the tokens in the sequence. \n",
    "        The positional encodings have the same dimension as the embeddings, so that the two can be summed. \n",
    "        Here, we use sine and cosine functions of different frequencies.\n",
    "    .. math::\n",
    "        \\text{PosEncoder}(pos, 2i) = sin(pos/10000^(2i/d_model))\n",
    "        \\text{PosEncoder}(pos, 2i+1) = cos(pos/10000^(2i/d_model))\n",
    "        \\text{where pos is the word position and i is the embed idx)\n",
    "    Args:\n",
    "        d_model: the embed dim (required).\n",
    "        dropout: the dropout value (default=0.1).\n",
    "        max_len: the max. length of the incoming sequence (default=1024).\n",
    "    \"\"\"\n",
    "\n",
    "    def __init__(self, d_model, dropout=0.1, max_len=1024, scale_factor=1.0):\n",
    "        super(AbsolutePositionalEncoding, self).__init__()\n",
    "        self.dropout = nn.Dropout(p=dropout)\n",
    "        pe = torch.zeros(max_len, d_model)  # positional encoding\n",
    "        position = torch.arange(0, max_len, dtype=torch.float).unsqueeze(1)\n",
    "        div_term = torch.exp(torch.arange(0, d_model, 2).float() * (-math.log(10000.0) / d_model))\n",
    "\n",
    "        pe[:, 0::2] = torch.sin(position * div_term)\n",
    "        pe[:, 1::2] = torch.cos(position * div_term)\n",
    "        pe = scale_factor * pe.unsqueeze(0)\n",
    "        self.register_buffer('pe', pe)  # this stores the variable in the state_dict (used for non-trainable variables)\n",
    "\n",
    "    def forward(self, x):\n",
    "        r\"\"\"Inputs of forward function\n",
    "        Args:\n",
    "            x: the sequence fed to the positional encoder model (required).\n",
    "        Shape:\n",
    "            x: [sequence length, batch size, embed dim]\n",
    "            output: [sequence length, batch size, embed dim]\n",
    "        \"\"\"\n",
    "        # print('Input shape ', x.shape)\n",
    "        # print('self.pe shape ', self.pe.shape)\n",
    "\n",
    "        x = x + self.pe\n",
    "        return self.dropout(x)\n"
   ]
  },
  {
   "cell_type": "markdown",
   "metadata": {},
   "source": [
    "#### Embedding Layer"
   ]
  },
  {
   "cell_type": "code",
   "execution_count": 309,
   "metadata": {},
   "outputs": [
    {
     "data": {
      "text/plain": [
       "torch.Size([160, 1, 300])"
      ]
     },
     "execution_count": 309,
     "metadata": {},
     "output_type": "execute_result"
    }
   ],
   "source": [
    "X_train.shape"
   ]
  },
  {
   "cell_type": "code",
   "execution_count": 316,
   "metadata": {},
   "outputs": [],
   "source": [
    "emb_size = 16\n",
    "embed_layer = nn.Sequential( nn.Conv1d(1, emb_size, kernel_size=8, padding='same'),\n",
    "                            nn.BatchNorm1d(emb_size),\n",
    "                            nn.GELU())\n",
    "\n",
    "out = embed_layer(X_train.float())"
   ]
  },
  {
   "cell_type": "code",
   "execution_count": 317,
   "metadata": {},
   "outputs": [
    {
     "data": {
      "text/plain": [
       "torch.Size([160, 16, 300])"
      ]
     },
     "execution_count": 317,
     "metadata": {},
     "output_type": "execute_result"
    }
   ],
   "source": [
    "out.shape"
   ]
  },
  {
   "cell_type": "code",
   "execution_count": null,
   "metadata": {},
   "outputs": [],
   "source": []
  },
  {
   "cell_type": "code",
   "execution_count": 67,
   "metadata": {},
   "outputs": [],
   "source": [
    "class Attention(nn.Module):\n",
    "    def __init__(self, emb_size, num_heads, dropout):\n",
    "        super().__init__()\n",
    "        self.num_heads = num_heads\n",
    "        self.scale = emb_size ** -0.5\n",
    "\n",
    "        self.query = nn.Linear(emb_size, emb_size, bias=False)\n",
    "        self.key = nn.Linear(emb_size, emb_size, bias=False)\n",
    "        self.value = nn.Linear(emb_size, emb_size, bias=False)\n",
    "\n",
    "        self.dropout = nn.Dropout(dropout)\n",
    "        self.to_out = nn.LayerNorm(emb_size)\n",
    "\n",
    "    \n",
    "    def forward(self, x):\n",
    "        batch_size, seq_len, _ = x.shape\n",
    "        k = self.key(x).reshape(batch_size, seq_len, self.num_heads, -1).permute(0, 2, 3, 1)\n",
    "        v = self.value(x).reshape(batch_size, seq_len, self.num_heads, -1).transpose(1, 2)\n",
    "        q = self.query(x).reshape(batch_size, seq_len, self.num_heads, -1).transpose(1, 2)\n",
    "\n",
    "        attn = torch.matmul(q, k) * self.scale\n",
    "        attn = nn.functional.softmax(attn, dim=-1)\n",
    "\n",
    "        out = torch.matmul(attn, v)\n",
    "        out = out.transpose(1, 2)\n",
    "        out = out.reshape(batch_size, seq_len, -1)\n",
    "        out = self.to_out(out)\n",
    "\n",
    "        return out\n",
    "\n",
    "class AttentionModel(nn.Module):\n",
    "    def __init__(self, emb_size, num_heads, dropout, num_classes, dim_ff):\n",
    "        super().__init__()\n",
    "        self.embed_layer = nn.Sequential(nn.Conv1d(1, emb_size, kernel_size=8, padding='same'),\n",
    "                                         nn.BatchNorm1d(emb_size),\n",
    "                                         nn.GELU())\n",
    "        self.Fix_pos_encode = AbsolutePositionalEncoding(emb_size, max_len=300)\n",
    "        self.attn_layer = Attention(emb_size, num_heads, dropout)\n",
    "\n",
    "        self.LayerNorm1 = nn.LayerNorm(emb_size, eps=1e-5)\n",
    "        self.LayerNorm2 = nn.LayerNorm(emb_size, eps=1e-5)\n",
    "\n",
    "        self.FeedForward = nn.Sequential(\n",
    "            nn.Linear(emb_size, dim_ff),\n",
    "            nn.ReLU(),\n",
    "            nn.Dropout(dropout),\n",
    "            nn.Linear(dim_ff, emb_size),\n",
    "            nn.Dropout(dropout)\n",
    "        )\n",
    "\n",
    "        self.gap = nn.AdaptiveAvgPool1d(1)\n",
    "        self.flatten = nn.Flatten()\n",
    "        self.to_out = nn.Linear(emb_size, num_classes)\n",
    "\n",
    "        \n",
    "    def forward(self, x):\n",
    "        # print('Input shape: ', x.shape)\n",
    "        x_src = self.embed_layer(x)\n",
    "\n",
    "        # print('Output shape: ', x_src.shape)\n",
    "        x_src = x_src.permute(0, 2, 1)\n",
    "        # x_src = self.Fix_pos_encode(x_src)\n",
    "        x = x_src + self.attn_layer(x_src)\n",
    "        att = self.LayerNorm1(x)\n",
    "        out = att + self.FeedForward(att)\n",
    "        out = self.LayerNorm2(out)\n",
    "        out = out.permute(0, 2, 1)\n",
    "        # out = x_src.permute(0, 2, 1)\n",
    "        # print('After permutation: ', x_src.shape)\n",
    "        out = self.gap(out)\n",
    "        # print('After gap: ', out.shape)\n",
    "        out = self.flatten(out)\n",
    "        # print('After flatten: ', out.shape)\n",
    "        out = self.to_out(out)\n",
    "        # print('classification layer ', out.shape)\n",
    "        return out"
   ]
  },
  {
   "cell_type": "code",
   "execution_count": 61,
   "metadata": {},
   "outputs": [],
   "source": [
    "model = AttentionModel(16, 8, 0.1, 2, 64)"
   ]
  },
  {
   "cell_type": "code",
   "execution_count": 62,
   "metadata": {},
   "outputs": [
    {
     "data": {
      "text/plain": [
       "torch.Size([160, 1, 300])"
      ]
     },
     "execution_count": 62,
     "metadata": {},
     "output_type": "execute_result"
    }
   ],
   "source": [
    "X_train.shape"
   ]
  },
  {
   "cell_type": "code",
   "execution_count": null,
   "metadata": {},
   "outputs": [],
   "source": [
    "model(X_train.float())"
   ]
  },
  {
   "cell_type": "code",
   "execution_count": 69,
   "metadata": {},
   "outputs": [
    {
     "data": {
      "text/plain": [
       "[<matplotlib.lines.Line2D at 0x7f97fcec4520>]"
      ]
     },
     "execution_count": 69,
     "metadata": {},
     "output_type": "execute_result"
    },
    {
     "data": {
      "image/png": "[encoded data removed]",
      "text/plain": [
       "<Figure size 640x480 with 1 Axes>"
      ]
     },
     "metadata": {},
     "output_type": "display_data"
    }
   ],
   "source": [
    "plt.plot(train_losses)"
   ]
  },
  {
   "cell_type": "code",
   "execution_count": 66,
   "metadata": {},
   "outputs": [
    {
     "data": {
      "text/plain": [
       "[<matplotlib.lines.Line2D at 0x7f97fd0726e0>]"
      ]
     },
     "execution_count": 66,
     "metadata": {},
     "output_type": "execute_result"
    },
    {
     "data": {
      "image/png": "[encoded data removed]",
      "text/plain": [
       "<Figure size 640x480 with 1 Axes>"
      ]
     },
     "metadata": {},
     "output_type": "display_data"
    }
   ],
   "source": [
    "plt.plot(train_losses)"
   ]
  },
  {
   "cell_type": "code",
   "execution_count": null,
   "metadata": {},
   "outputs": [],
   "source": [
    "import torch.optim as optim\n",
    "\n",
    "model = AttentionModel(16, 8, 0.1, 2, 64)\n",
    "lossFn = nn.CrossEntropyLoss()\n",
    "optimizer = optim.Adam(model.parameters(), lr=0.001,)\n",
    "EPOCHS = 1000\n",
    "\n",
    "model.to(device)\n",
    "\n",
    "train_losses, test_losses, test_accs = [], [], []\n",
    "\n",
    "for e in range(0, EPOCHS):\n",
    "    model.train()\n",
    "\n",
    "    # initlaize total training loss\n",
    "    totalTainLoss = 0\n",
    "\n",
    "    # initialize number of correct predictions in the training\n",
    "    trainCorrect = 0\n",
    "\n",
    "    for (x, y) in trainlaoder:\n",
    "        # send the input to the device\n",
    "        x, y = x.to(device), y.to(device)\n",
    "        \n",
    "        # perform a forward pass and calculate the training loss\n",
    "        pred = model(x.float())\n",
    "        loss = lossFn(pred, y)\n",
    "\n",
    "        optimizer.zero_grad()\n",
    "        loss.backward()\n",
    "        optimizer.step()\n",
    "\n",
    "        totalTainLoss += loss\n",
    "        trainCorrect += (pred.argmax(1) == y).type(torch.float).sum().item()\n",
    "\n",
    "\n",
    "    print('Train loss: ', totalTainLoss.item())\n",
    "    train_losses.append(totalTainLoss.item())\n",
    "    test_loss, test_acc = test(model)\n",
    "    test_losses.append(test_loss)\n",
    "    test_accs.append(test_acc)\n"
   ]
  },
  {
   "cell_type": "code",
   "execution_count": null,
   "metadata": {},
   "outputs": [],
   "source": []
  },
  {
   "cell_type": "code",
   "execution_count": null,
   "metadata": {},
   "outputs": [],
   "source": []
  },
  {
   "cell_type": "code",
   "execution_count": null,
   "metadata": {},
   "outputs": [],
   "source": []
  },
  {
   "cell_type": "code",
   "execution_count": null,
   "metadata": {},
   "outputs": [],
   "source": []
  },
  {
   "cell_type": "code",
   "execution_count": null,
   "metadata": {},
   "outputs": [],
   "source": []
  },
  {
   "cell_type": "code",
   "execution_count": null,
   "metadata": {},
   "outputs": [],
   "source": []
  },
  {
   "cell_type": "code",
   "execution_count": null,
   "metadata": {},
   "outputs": [],
   "source": []
  },
  {
   "cell_type": "code",
   "execution_count": null,
   "metadata": {},
   "outputs": [],
   "source": []
  },
  {
   "cell_type": "code",
   "execution_count": 263,
   "metadata": {},
   "outputs": [],
   "source": [
    "import torch\n",
    "import torch.nn as nn\n",
    "import math\n",
    "\n",
    "class Padding(nn.Module):\n",
    "\n",
    "    def __init__(self, patch_size):\n",
    "        super(Padding, self).__init__()\n",
    "        self.patch_size = patch_size\n",
    "\n",
    "    def forward(self, x):\n",
    "        B, D, L= x.size()\n",
    "        print('x shape: ', x.shape)\n",
    "        if L % self.patch_size != 0:\n",
    "            padd_size = self.patch_size - L % self.patch_size\n",
    "            print('padd_size: ', padd_size)\n",
    "            num_patches = math.ceil(L / self.patch_size)\n",
    "            print('num_patches: ', num_patches)\n",
    "            last_elements = x[:, :, -1:]\n",
    "            print('last_elements: ', last_elements.shape)\n",
    "            num_missing_values = self.patch_size - (L % self.patch_size)\n",
    "            print('num_missing_values: ', num_missing_values)\n",
    "            if num_missing_values > 0:\n",
    "                padding = last_elements.repeat(1, 1, num_missing_values)\n",
    "                print('padding shape: ', padding.shape)\n",
    "                x = torch.cat([x, padding], dim=2)\n",
    "                print('x shape: ', x.shape)\n",
    "            print('final shape: ', x.shape)\n",
    "\n",
    "            x = x.view(B, D, -1, self.patch_size)\n",
    "        else:\n",
    "            x = x.view(B, D, -1, self.patch_size)\n",
    "\n",
    "\n",
    "        return  x.permute(0, 2, 1, 3)\n",
    "\n",
    "\n",
    "# Example usage:\n",
    "patch_size = 4\n",
    "num_heads = 2\n",
    "sequence_length = 720\n",
    "batch_size = 128"
   ]
  },
  {
   "cell_type": "code",
   "execution_count": 264,
   "metadata": {},
   "outputs": [
    {
     "data": {
      "text/plain": [
       "torch.Size([128, 1, 720])"
      ]
     },
     "execution_count": 264,
     "metadata": {},
     "output_type": "execute_result"
    }
   ],
   "source": [
    "# Create sample input sequence data\n",
    "input_data = torch.randn(batch_size, 1, sequence_length)\n",
    "\n",
    "input_data.shape"
   ]
  },
  {
   "cell_type": "code",
   "execution_count": 265,
   "metadata": {},
   "outputs": [
    {
     "name": "stdout",
     "output_type": "stream",
     "text": [
      "x shape:  torch.Size([128, 1, 720])\n"
     ]
    },
    {
     "data": {
      "text/plain": [
       "torch.Size([128, 180, 1, 4])"
      ]
     },
     "execution_count": 265,
     "metadata": {},
     "output_type": "execute_result"
    }
   ],
   "source": [
    "patching_layer = Padding(patch_size)\n",
    "patched_input = patching_layer(input_data)\n",
    "patched_input.shape"
   ]
  },
  {
   "cell_type": "code",
   "execution_count": 270,
   "metadata": {},
   "outputs": [
    {
     "ename": "RuntimeError",
     "evalue": "Sizes of tensors must match except in dimension 2. Expected size 1 but got size 720 for tensor number 1 in the list.",
     "output_type": "error",
     "traceback": [
      "\u001b[0;31m---------------------------------------------------------------------------\u001b[0m",
      "\u001b[0;31mRuntimeError\u001b[0m                              Traceback (most recent call last)",
      "Cell \u001b[0;32mIn [270], line 6\u001b[0m\n\u001b[1;32m      4\u001b[0m reshaped_input \u001b[38;5;241m=\u001b[39m input_tensor\u001b[38;5;241m.\u001b[39mpermute(\u001b[38;5;241m0\u001b[39m, \u001b[38;5;241m2\u001b[39m, \u001b[38;5;241m1\u001b[39m)  \u001b[38;5;66;03m# (batch_size, seq_len, channels)\u001b[39;00m\n\u001b[1;32m      5\u001b[0m dummy_channel \u001b[38;5;241m=\u001b[39m torch\u001b[38;5;241m.\u001b[39mones((\u001b[38;5;241m16\u001b[39m, \u001b[38;5;241m720\u001b[39m, \u001b[38;5;241m1\u001b[39m))\n\u001b[0;32m----> 6\u001b[0m combined_input \u001b[38;5;241m=\u001b[39m \u001b[43mtorch\u001b[49m\u001b[38;5;241;43m.\u001b[39;49m\u001b[43mcat\u001b[49m\u001b[43m(\u001b[49m\u001b[43m[\u001b[49m\u001b[43minput_tensor\u001b[49m\u001b[43m,\u001b[49m\u001b[43m \u001b[49m\u001b[43mdummy_channel\u001b[49m\u001b[43m]\u001b[49m\u001b[43m,\u001b[49m\u001b[43m \u001b[49m\u001b[43mdim\u001b[49m\u001b[38;5;241;43m=\u001b[39;49m\u001b[38;5;241;43m-\u001b[39;49m\u001b[38;5;241;43m1\u001b[39;49m\u001b[43m)\u001b[49m  \u001b[38;5;66;03m# (batch_size, seq_len, channels)\u001b[39;00m\n\u001b[1;32m      7\u001b[0m \u001b[38;5;28;01mimport\u001b[39;00m \u001b[38;5;21;01mtorch\u001b[39;00m\u001b[38;5;21;01m.\u001b[39;00m\u001b[38;5;21;01mnn\u001b[39;00m \u001b[38;5;28;01mas\u001b[39;00m \u001b[38;5;21;01mnn\u001b[39;00m\n\u001b[1;32m      9\u001b[0m \u001b[38;5;66;03m# Define parameters for self-attention (adjust accordingly)\u001b[39;00m\n",
      "\u001b[0;31mRuntimeError\u001b[0m: Sizes of tensors must match except in dimension 2. Expected size 1 but got size 720 for tensor number 1 in the list."
     ]
    }
   ],
   "source": [
    "import torch\n",
    "\n",
    "input_tensor = torch.randn(16, 1, 720)\n",
    "reshaped_input = input_tensor.permute(0, 2, 1)  # (batch_size, seq_len, channels)\n",
    "dummy_channel = torch.ones((16, 720, 1))\n",
    "combined_input = torch.cat([input_tensor, dummy_channel], dim=-1)  # (batch_size, seq_len, channels)\n",
    "import torch.nn as nn\n",
    "\n",
    "# Define parameters for self-attention (adjust accordingly)\n",
    "num_heads = 8\n",
    "d_model = 512\n",
    "\n",
    "attention_layer = nn.MultiheadAttention(embed_dim=d_model, num_heads=num_heads)\n",
    "\n",
    "output = attention_layer(reshaped_input, reshaped_input, reshaped_input)  # (batch_size, seq_len, channels)\n"
   ]
  },
  {
   "cell_type": "code",
   "execution_count": null,
   "metadata": {},
   "outputs": [],
   "source": []
  },
  {
   "cell_type": "code",
   "execution_count": null,
   "metadata": {},
   "outputs": [],
   "source": []
  },
  {
   "cell_type": "code",
   "execution_count": null,
   "metadata": {},
   "outputs": [],
   "source": []
  },
  {
   "cell_type": "code",
   "execution_count": 133,
   "metadata": {},
   "outputs": [
    {
     "ename": "NameError",
     "evalue": "name 'Patching' is not defined",
     "output_type": "error",
     "traceback": [
      "\u001b[0;31m---------------------------------------------------------------------------\u001b[0m",
      "\u001b[0;31mNameError\u001b[0m                                 Traceback (most recent call last)",
      "Cell \u001b[0;32mIn [133], line 39\u001b[0m\n\u001b[1;32m     36\u001b[0m input_data \u001b[38;5;241m=\u001b[39m torch\u001b[38;5;241m.\u001b[39mrandn(batch_size, sequence_length, patch_size)\n\u001b[1;32m     38\u001b[0m \u001b[38;5;66;03m# Apply patching\u001b[39;00m\n\u001b[0;32m---> 39\u001b[0m patching_layer \u001b[38;5;241m=\u001b[39m \u001b[43mPatching\u001b[49m(patch_size)\n\u001b[1;32m     40\u001b[0m patches \u001b[38;5;241m=\u001b[39m patching_layer(input_data)\n\u001b[1;32m     41\u001b[0m \u001b[38;5;28mprint\u001b[39m(\u001b[38;5;124m\"\u001b[39m\u001b[38;5;124mPatched data shape:\u001b[39m\u001b[38;5;124m\"\u001b[39m, patches\u001b[38;5;241m.\u001b[39mshape)\n",
      "\u001b[0;31mNameError\u001b[0m: name 'Patching' is not defined"
     ]
    }
   ],
   "source": [
    "import torch\n",
    "import torch.nn as nn\n",
    "import math\n",
    "\n",
    "class Padding(nn.Module):\n",
    "\n",
    "    def __init__(self, patch_size):\n",
    "        super(Padding, self).__init__()\n",
    "        self.patch_size = patch_size\n",
    "\n",
    "    def forward(self, x):\n",
    "        B, D, L = x.size()\n",
    "        padd_size = self.patch_size - L % self.patch_size\n",
    "        \n",
    "        num_patches = math.ceil(L / self.patch_size)\n",
    "        last_elements = x[:, :, -1:]\n",
    "        num_missing_values = self.patch_size - (L % self.patch_size)\n",
    "        if num_missing_values > 0:\n",
    "            padding = last_elements.repeat(1, 1, num_missing_values)\n",
    "            x = torch.cat([x, padding], dim=2)\n",
    "\n",
    "        print('final shape: ', x.shape)\n",
    "\n",
    "        x = x.view(B, D, -1, self.patch_size)\n",
    "\n",
    "        return  x.permute(0, 2, 1, 3)\n",
    "\n",
    "\n",
    "# Example usage:\n",
    "patch_size = 4\n",
    "num_heads = 2\n",
    "sequence_length = 720\n",
    "batch_size = 128\n",
    "\n",
    "# Create sample input sequence data\n",
    "input_data = torch.randn(batch_size, sequence_length, patch_size)\n",
    "\n",
    "# Apply patching\n",
    "patching_layer = Patching(patch_size)\n",
    "patches = patching_layer(input_data)\n",
    "print(\"Patched data shape:\", patches.shape)\n",
    "\n",
    "# Apply self-attention\n",
    "attention_layer = SelfAttention(patch_size, num_heads)\n",
    "output = attention_layer(patches)\n",
    "print(\"Output shape after self-attention:\", output.shape)"
   ]
  },
  {
   "cell_type": "code",
   "execution_count": 76,
   "metadata": {},
   "outputs": [
    {
     "name": "stdout",
     "output_type": "stream",
     "text": [
      "batch size:  16\n",
      "Number of channels:  128\n",
      "Sequence LengthL:  577\n",
      "self patch size:  10\n",
      "padd suze:  3\n",
      "number of patches:  58\n",
      "last_elements shape:  torch.Size([16, 128, 1])\n",
      "padding shape:  torch.Size([16, 128, 3])\n",
      "original shape:  torch.Size([16, 128, 580])\n",
      "final shape:  torch.Size([16, 128, 58, 10])\n"
     ]
    }
   ],
   "source": [
    "input_data = torch.randn(16, 128, 577)\n",
    "patching_layer = Patching(10)\n",
    "patches = patching_layer(input_data)"
   ]
  },
  {
   "cell_type": "code",
   "execution_count": 43,
   "metadata": {},
   "outputs": [
    {
     "data": {
      "text/plain": [
       "torch.Size([16, 128])"
      ]
     },
     "execution_count": 43,
     "metadata": {},
     "output_type": "execute_result"
    }
   ],
   "source": [
    "last_elements = input_data[:, :, -1]\n",
    "last_elements.shape"
   ]
  },
  {
   "cell_type": "code",
   "execution_count": 30,
   "metadata": {},
   "outputs": [],
   "source": [
    "import tensorflow as tf\n",
    "\n",
    "input = tf.random.normal((256, 237, 21))\n",
    "conv_layer = tf.keras.layers.Conv1D(filters=1024, kernel_size=5, padding='same')\n",
    "y = conv_layer(input)\n"
   ]
  },
  {
   "cell_type": "code",
   "execution_count": 31,
   "metadata": {},
   "outputs": [
    {
     "data": {
      "text/plain": [
       "TensorShape([256, 237, 1024])"
      ]
     },
     "execution_count": 31,
     "metadata": {},
     "output_type": "execute_result"
    }
   ],
   "source": [
    "y.shape"
   ]
  },
  {
   "cell_type": "code",
   "execution_count": 32,
   "metadata": {},
   "outputs": [],
   "source": [
    "x = torch.randn(256, 237, 21)\n",
    "conv_layer = nn.Conv1d(in_channels=21, out_channels=1024, kernel_size=5, padding=2)\n",
    "y = conv_layer(x.permute(0, 2, 1))\n"
   ]
  },
  {
   "cell_type": "code",
   "execution_count": 33,
   "metadata": {},
   "outputs": [
    {
     "data": {
      "text/plain": [
       "torch.Size([256, 1024, 237])"
      ]
     },
     "execution_count": 33,
     "metadata": {},
     "output_type": "execute_result"
    }
   ],
   "source": [
    "y.shape"
   ]
  },
  {
   "cell_type": "code",
   "execution_count": 54,
   "metadata": {},
   "outputs": [
    {
     "name": "stdout",
     "output_type": "stream",
     "text": [
      "Defaulting to user installation because normal site-packages is not writeable\n",
      "Requirement already satisfied: einops in /home/javidan/.local/lib/python3.10/site-packages (0.6.1)\n",
      "Note: you may need to restart the kernel to use updated packages.\n"
     ]
    }
   ],
   "source": [
    "pip install einops"
   ]
  },
  {
   "cell_type": "code",
   "execution_count": 62,
   "metadata": {},
   "outputs": [],
   "source": [
    "import torch\n",
    "from torchvision.datasets import OxfordIIITPet\n",
    "import matplotlib.pyplot as plt\n",
    "from random import random\n",
    "from torchvision.transforms import Resize, ToTensor\n",
    "from torchvision.transforms.functional import to_pil_image\n",
    "\n",
    "to_tensor = [Resize((144, 144)), ToTensor()]\n",
    "\n",
    "class Compose(object):\n",
    "    \n",
    "    def __init__(self, transforms):\n",
    "        self.transforms = transforms\n",
    "\n",
    "    \n",
    "    def __call__(self, image, target):\n",
    "        for t in self.transforms:\n",
    "            image = t(image)\n",
    "    \n",
    "        \n",
    "        return image, target\n",
    "\n",
    "\n",
    "dataset = OxfordIIITPet(root='.', download=False, transforms=Compose(to_tensor))"
   ]
  },
  {
   "cell_type": "code",
   "execution_count": 103,
   "metadata": {},
   "outputs": [
    {
     "data": {
      "text/plain": [
       "torch.Size([1, 3, 144, 144])"
      ]
     },
     "execution_count": 103,
     "metadata": {},
     "output_type": "execute_result"
    }
   ],
   "source": [
    "from torch import nn\n",
    "from einops.layers.torch import Rearrange\n",
    "from torch import Tensor\n",
    "\n",
    "\n",
    "class PatchEmbedding(nn.Module):\n",
    "    def __init__(self, in_channels=3, patch_size=8, emb_size=128):\n",
    "        self.patch_size = patch_size\n",
    "        super().__init__()\n",
    "        self.projection = nn.Sequential(\n",
    "            Rearrange('b c (h p1) (w p2) -> b (h w) (p1 p2 c)', p1=patch_size, p2=patch_size),\n",
    "            # nn.Linear(patch_size * patch_size * in_channels, emb_size)\n",
    "        )\n",
    "\n",
    "    def forward(self, x:Tensor) -> Tensor:\n",
    "        x = self.projection(x)\n",
    "        return x\n",
    "\n",
    "sample_datapoint = torch.unsqueeze(dataset[0][0], 0)\n",
    "sample_datapoint.shape"
   ]
  },
  {
   "cell_type": "code",
   "execution_count": 104,
   "metadata": {},
   "outputs": [
    {
     "data": {
      "text/plain": [
       "torch.Size([3, 144, 144])"
      ]
     },
     "execution_count": 104,
     "metadata": {},
     "output_type": "execute_result"
    }
   ],
   "source": [
    "dataset[0][0].shape"
   ]
  },
  {
   "cell_type": "code",
   "execution_count": 105,
   "metadata": {},
   "outputs": [],
   "source": [
    "embedding = PatchEmbedding()(sample_datapoint)"
   ]
  },
  {
   "cell_type": "code",
   "execution_count": 106,
   "metadata": {},
   "outputs": [
    {
     "data": {
      "text/plain": [
       "torch.Size([1, 324, 192])"
      ]
     },
     "execution_count": 106,
     "metadata": {},
     "output_type": "execute_result"
    }
   ],
   "source": [
    "embedding.shape"
   ]
  },
  {
   "cell_type": "markdown",
   "metadata": {},
   "source": [
    "# Attention"
   ]
  },
  {
   "cell_type": "code",
   "execution_count": 87,
   "metadata": {},
   "outputs": [],
   "source": [
    "import aeon\n",
    "from aeon.datasets import load_arrow_head\n",
    "\n",
    "x_train, y_train = load_arrow_head(split='TRAIN')\n",
    "x_test, y_test = load_arrow_head(split='TEST')\n",
    "\n",
    "std_ = x_train.std(axis=1, keepdims=True)\n",
    "std_[std_ == 0] = 1.0\n",
    "x_train = (x_train - x_train.mean(axis=1, keepdims=True)) / std_\n",
    "\n",
    "std_ = x_test.std(axis=1, keepdims=True)\n",
    "std_[std_ == 0] = 1.0\n",
    "x_test = (x_test - x_test.mean(axis=1, keepdims=True)) / std_\n"
   ]
  },
  {
   "cell_type": "code",
   "execution_count": 88,
   "metadata": {},
   "outputs": [],
   "source": [
    "inputs = torch.randn(16, 128, 251)"
   ]
  },
  {
   "cell_type": "code",
   "execution_count": 101,
   "metadata": {},
   "outputs": [
    {
     "data": {
      "text/plain": [
       "torch.Size([16, 58, 32])"
      ]
     },
     "execution_count": 101,
     "metadata": {},
     "output_type": "execute_result"
    }
   ],
   "source": [
    "from torch import nn\n",
    "from einops.layers.torch import Rearrange\n",
    "from torch import Tensor\n",
    "\n",
    "\n",
    "class PatchEmbedding(nn.Module):\n",
    "    def __init__(self, in_channels=128, patch_size=10, emb_size=32):\n",
    "        self.patch_size = patch_size\n",
    "        super().__init__()\n",
    "        self.projection = nn.Sequential(\n",
    "            Rearrange('b c (h p) -> b h (p c)', p=patch_size,),\n",
    "            nn.Linear(patch_size * in_channels, emb_size)\n",
    "        )\n",
    "\n",
    "    def forward(self, x:Tensor) -> Tensor:\n",
    "        x = self.projection(x)\n",
    "        return x\n",
    "\n",
    "patched_input = PatchEmbedding()(padded_input)\n",
    "patched_input.shape"
   ]
  },
  {
   "cell_type": "code",
   "execution_count": 102,
   "metadata": {},
   "outputs": [
    {
     "data": {
      "text/plain": [
       "torch.Size([16, 58, 32])"
      ]
     },
     "execution_count": 102,
     "metadata": {},
     "output_type": "execute_result"
    }
   ],
   "source": [
    "class PositionalEncoding(nn.Module):\n",
    "    def __init__(self, d_model, max_len=512):\n",
    "        super(PositionalEncoding, self).__init__()\n",
    "        self.d_model = d_model\n",
    "        self.max_len = max_len\n",
    "        \n",
    "        # Compute the positional encodings\n",
    "        pe = torch.zeros(max_len, d_model)\n",
    "        position = torch.arange(0, max_len, dtype=torch.float).unsqueeze(1)\n",
    "        div_term = torch.exp(torch.arange(0, d_model, 2).float() * (-torch.log(torch.tensor(10000.0)) / d_model))\n",
    "        pe[:, 0::2] = torch.sin(position * div_term)\n",
    "        pe[:, 1::2] = torch.cos(position * div_term)\n",
    "        pe = pe.unsqueeze(0)\n",
    "        \n",
    "        # Register the positional encodings as buffer (not trainable)\n",
    "        self.register_buffer('pe', pe)\n",
    "    \n",
    "    def forward(self, x):\n",
    "        # Add the positional encodings to the input embeddings\n",
    "        batch_size, num_patches, patch_length = x.size()\n",
    "        positional_encodings = self.pe[:, :num_patches, :]\n",
    "        return x + positional_encodings\n",
    "\n",
    "\n",
    "d_model = 32  # Embedding dimension (same as patch length)\n",
    "max_len = 832  # Maximum sequence length\n",
    "pos_encoder = PositionalEncoding(d_model, max_len)\n",
    "output_data = pos_encoder(patched_input)\n",
    "output_data.shape"
   ]
  }
 ],
 "metadata": {
  "kernelspec": {
   "display_name": "Python 3.10.12 64-bit",
   "language": "python",
   "name": "python3"
  },
  "language_info": {
   "codemirror_mode": {
    "name": "ipython",
    "version": 3
   },
   "file_extension": ".py",
   "mimetype": "text/x-python",
   "name": "python",
   "nbconvert_exporter": "python",
   "pygments_lexer": "ipython3",
   "version": "3.10.12"
  },
  "orig_nbformat": 4,
  "vscode": {
   "interpreter": {
    "hash": "916dbcbb3f70747c44a77c7bcd40155683ae19c65e1c03b4aa3499c5328201f1"
   }
  }
 },
 "nbformat": 4,
 "nbformat_minor": 2
}

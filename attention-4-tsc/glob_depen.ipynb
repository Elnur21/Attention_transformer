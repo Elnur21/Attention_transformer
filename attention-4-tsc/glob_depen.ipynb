{
 "cells": [
  {
   "cell_type": "code",
   "execution_count": 1,
   "metadata": {},
   "outputs": [
    {
     "name": "stderr",
     "output_type": "stream",
     "text": [
      "/home/javidan/.local/lib/python3.10/site-packages/tqdm/auto.py:22: TqdmWarning: IProgress not found. Please update jupyter and ipywidgets. See https://ipywidgets.readthedocs.io/en/stable/user_install.html\n",
      "  from .autonotebook import tqdm as notebook_tqdm\n"
     ]
    }
   ],
   "source": [
    "import numpy as np\n",
    "import pandas as pd\n",
    "import matplotlib.pyplot as plt\n",
    "import math\n",
    "import copy\n",
    "from aeon.datasets import load_classification\n",
    "import sys\n",
    "sys.path.append('utils')\n",
    "from utils import read_all_datasets, prepare_data, znorm, transform_labels\n",
    "\n",
    "import torch\n",
    "from torch.utils.data import TensorDataset, DataLoader"
   ]
  },
  {
   "cell_type": "code",
   "execution_count": 5,
   "metadata": {},
   "outputs": [
    {
     "name": "stdout",
     "output_type": "stream",
     "text": [
      "x_train shape:  (375, 1, 720)\n",
      "x_test shape:  (375, 1, 720)\n"
     ]
    }
   ],
   "source": [
    "dataset_name = 'LargeKitchenAppliances'\n",
    "x_train, y_train = load_classification(dataset_name, split=\"TRAIN\")\n",
    "x_test, y_test = load_classification(dataset_name, split=\"test\")\n",
    "\n",
    "print('x_train shape: ', x_train.shape)\n",
    "print('x_test shape: ', x_test.shape)\n",
    "\n",
    "x_train = znorm(x_train, dim=2)\n",
    "x_test = znorm(x_test, dim=2)\n",
    "\n",
    "y_train, y_test = transform_labels(y_train, y_test)\n",
    "\n",
    "x_train, y_train= torch.from_numpy(x_train), torch.from_numpy(y_train)\n",
    "x_test, y_test= torch.from_numpy(x_test), torch.from_numpy(y_test)\n",
    "input_shape = x_train.shape[1:]\n",
    "\n",
    "mini_batch_size = 16\n",
    "trainloader = DataLoader(TensorDataset(x_train, y_train), batch_size=mini_batch_size, shuffle=True)\n",
    "valloader = DataLoader(TensorDataset(x_test, y_test), batch_size=mini_batch_size, shuffle=False)"
   ]
  },
  {
   "cell_type": "code",
   "execution_count": 6,
   "metadata": {},
   "outputs": [
    {
     "data": {
      "text/plain": [
       "torch.Size([375, 1, 720])"
      ]
     },
     "execution_count": 6,
     "metadata": {},
     "output_type": "execute_result"
    }
   ],
   "source": [
    "x_train.shape"
   ]
  },
  {
   "cell_type": "code",
   "execution_count": 11,
   "metadata": {},
   "outputs": [
    {
     "data": {
      "text/plain": [
       "torch.Size([375, 1, 360])"
      ]
     },
     "execution_count": 11,
     "metadata": {},
     "output_type": "execute_result"
    }
   ],
   "source": [
    "from torch import nn\n",
    "\n",
    "tmp = nn.AvgPool1d(2, 2)(x_train)\n",
    "tmp.shape"
   ]
  },
  {
   "cell_type": "code",
   "execution_count": null,
   "metadata": {},
   "outputs": [],
   "source": []
  }
 ],
 "metadata": {
  "kernelspec": {
   "display_name": "Python 3.10.12 64-bit",
   "language": "python",
   "name": "python3"
  },
  "language_info": {
   "codemirror_mode": {
    "name": "ipython",
    "version": 3
   },
   "file_extension": ".py",
   "mimetype": "text/x-python",
   "name": "python",
   "nbconvert_exporter": "python",
   "pygments_lexer": "ipython3",
   "version": "3.10.12"
  },
  "orig_nbformat": 4,
  "vscode": {
   "interpreter": {
    "hash": "916dbcbb3f70747c44a77c7bcd40155683ae19c65e1c03b4aa3499c5328201f1"
   }
  }
 },
 "nbformat": 4,
 "nbformat_minor": 2
}
